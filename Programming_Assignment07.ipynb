{
 "cells": [
  {
   "cell_type": "markdown",
   "metadata": {},
   "source": [
    "**1.\tWrite a Python Program to find sum of array?**"
   ]
  },
  {
   "cell_type": "code",
   "execution_count": null,
   "metadata": {},
   "outputs": [],
   "source": [
    "def sumarr():\n",
    "    arr=eval(input(\"Enter an array \"))\n",
    "    print(f'Sum of {arr} is {sum(arr)}')\n",
    "    \n",
    "sumarr()"
   ]
  },
  {
   "cell_type": "markdown",
   "metadata": {},
   "source": [
    "**2.\tWrite a Python Program to find largest element in an array?**"
   ]
  },
  {
   "cell_type": "code",
   "execution_count": 13,
   "metadata": {},
   "outputs": [
    {
     "name": "stdout",
     "output_type": "stream",
     "text": [
      "Enter an array [7,2,15,9,3,1,4]\n",
      "The largest element in [7, 2, 15, 9, 3, 1, 4] is 15\n"
     ]
    }
   ],
   "source": [
    "def largestEle():\n",
    "    arr=eval(input(\"Enter an array \"))\n",
    "    print(f'The largest element in {arr} is {sorted(arr,reverse=True)[0]}')\n",
    "\n",
    "largestEle()\n",
    "    "
   ]
  },
  {
   "cell_type": "markdown",
   "metadata": {},
   "source": [
    "**3.\tWrite a Python Program for array rotation?**"
   ]
  },
  {
   "cell_type": "code",
   "execution_count": 16,
   "metadata": {},
   "outputs": [
    {
     "name": "stdout",
     "output_type": "stream",
     "text": [
      "Enter an array [1,2,3,4,5,6,7]\n",
      "Enter d by which array will be rotated 3\n",
      "Array after rotation is :\n",
      "[4, 5, 6, 7, 1, 2, 3]\n"
     ]
    }
   ],
   "source": [
    "arr=eval(input(\"Enter an array \"))\n",
    "d=int(input(\"Enter d by which array will be rotated \"))\n",
    "\n",
    "def arrrotation(arr,d):\n",
    "    temp=[]\n",
    "    n=len(arr)\n",
    "    for i in range(d,n):\n",
    "        temp.append(arr[i])\n",
    "    j=0\n",
    "    for j in range(j,d):\n",
    "        temp.append(arr[j])\n",
    "    \n",
    "    arr=temp.copy()\n",
    "    \n",
    "    return arr\n",
    "\n",
    "print(\"Array after rotation is :\")\n",
    "print(arrrotation(arr,d))"
   ]
  },
  {
   "cell_type": "markdown",
   "metadata": {},
   "source": [
    "**4.\tWrite a Python Program to Split the array and add the first part to the end?**"
   ]
  },
  {
   "cell_type": "code",
   "execution_count": 27,
   "metadata": {},
   "outputs": [
    {
     "name": "stdout",
     "output_type": "stream",
     "text": [
      "Enter an array [3,4,5,6,7,8,9]\n",
      "Enter position to split array 3\n",
      "Original array [3, 4, 5, 6, 7, 8, 9]\n",
      "Array after spliting [6, 7, 8, 9, 3, 4, 5]\n"
     ]
    }
   ],
   "source": [
    "arr=eval(input(\"Enter an array \"))\n",
    "d=int(input(\"Enter position to split array \"))\n",
    "\n",
    "def split(arr,d):\n",
    "    \n",
    "    s1=arr[:d]\n",
    "    s2=arr[d:]\n",
    "    \n",
    "    temp=s2+s1\n",
    "    \n",
    "    arr=temp.copy()\n",
    "    return arr\n",
    "\n",
    "array=split(arr,d)\n",
    "print(\"Original array\",arr)\n",
    "print(\"Array after spliting\",array)"
   ]
  },
  {
   "cell_type": "markdown",
   "metadata": {},
   "source": [
    "**5.\tWrite a Python Program to check if given array is Monotonic?**"
   ]
  },
  {
   "cell_type": "code",
   "execution_count": 1,
   "metadata": {},
   "outputs": [],
   "source": [
    "\n",
    "def IsMonotonic():\n",
    "    \n",
    "    arr=eval(input(\"Enter an array \"))\n",
    "    \n",
    "    if (all(arr[i] <= arr[i+1] for i in range(len(arr)-1)) or all(arr[i] >= arr[i+1] for i in range(len(arr)-1))):\n",
    "        print(arr,\"is Monotonic\")\n",
    "    \n",
    "    else:\n",
    "        print(\"Given array is not Monotonic\")"
   ]
  },
  {
   "cell_type": "code",
   "execution_count": 2,
   "metadata": {},
   "outputs": [
    {
     "name": "stdout",
     "output_type": "stream",
     "text": [
      "Enter an array [1,2,3,4,5,6,7]\n",
      "[1, 2, 3, 4, 5, 6, 7] is Monotonic\n"
     ]
    }
   ],
   "source": [
    "IsMonotonic()"
   ]
  },
  {
   "cell_type": "code",
   "execution_count": 3,
   "metadata": {},
   "outputs": [
    {
     "name": "stdout",
     "output_type": "stream",
     "text": [
      "Enter an array [2,1,4,8,3,5]\n",
      "Given array is not Monotonic\n"
     ]
    }
   ],
   "source": [
    "IsMonotonic()"
   ]
  },
  {
   "cell_type": "code",
   "execution_count": null,
   "metadata": {},
   "outputs": [],
   "source": []
  }
 ],
 "metadata": {
  "kernelspec": {
   "display_name": "Python 3",
   "language": "python",
   "name": "python3"
  },
  "language_info": {
   "codemirror_mode": {
    "name": "ipython",
    "version": 3
   },
   "file_extension": ".py",
   "mimetype": "text/x-python",
   "name": "python",
   "nbconvert_exporter": "python",
   "pygments_lexer": "ipython3",
   "version": "3.6.5"
  }
 },
 "nbformat": 4,
 "nbformat_minor": 2
}
