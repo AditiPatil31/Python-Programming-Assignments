{
 "cells": [
  {
   "cell_type": "markdown",
   "metadata": {},
   "source": [
    "**1.\tWrite a Python Program to Find LCM?**"
   ]
  },
  {
   "cell_type": "code",
   "execution_count": 6,
   "metadata": {},
   "outputs": [
    {
     "name": "stdout",
     "output_type": "stream",
     "text": [
      "Enter any number 54\n",
      "Enter any number 24\n",
      "LCM of 54 and 24 is 216 \n"
     ]
    }
   ],
   "source": [
    "x=int(input(\"Enter any number \"))\n",
    "y=int(input(\"Enter any number \"))\n",
    "\n",
    "def LCM(x,y):\n",
    "    \n",
    "    if x > y:\n",
    "        greater=x\n",
    "        \n",
    "    else:\n",
    "        greater=y\n",
    "    \n",
    "    while(True):\n",
    "        \n",
    "        if ((greater%x==0) and (greater%y==0)):\n",
    "            \n",
    "            lcm=greater\n",
    "            break\n",
    "        \n",
    "        greater+=1\n",
    "        \n",
    "    return greater\n",
    "        \n",
    "lcm=LCM(x,y)\n",
    "print(\"LCM of {0} and {1} is {2} \".format(x,y,lcm))"
   ]
  },
  {
   "cell_type": "markdown",
   "metadata": {},
   "source": [
    "**2.\tWrite a Python Program to Find HCF?**"
   ]
  },
  {
   "cell_type": "code",
   "execution_count": 10,
   "metadata": {},
   "outputs": [
    {
     "name": "stdout",
     "output_type": "stream",
     "text": [
      "Enter any number 72\n",
      "Enter any number 54\n",
      "HCF of 72 and 54 is 18 \n"
     ]
    }
   ],
   "source": [
    "x=int(input(\"Enter any number \"))\n",
    "y=int(input(\"Enter any number \"))\n",
    "\n",
    "def HCF(x,y):\n",
    "    \n",
    "    if x < y:\n",
    "        smaller=x\n",
    "        \n",
    "    else:\n",
    "        smaller=y\n",
    "        \n",
    "    for i in range(1,smaller+1):\n",
    "        \n",
    "        if ((x%i==0) and (y%i==0)):\n",
    "            hcf=i\n",
    "    return hcf\n",
    "           \n",
    "        \n",
    "hcf=HCF(x,y)\n",
    "print(\"HCF of {0} and {1} is {2} \".format(x,y,hcf))           \n",
    "    "
   ]
  },
  {
   "cell_type": "markdown",
   "metadata": {},
   "source": [
    "**3.\tWrite a Python Program to Convert Decimal to Binary, Octal and Hexadecimal?**"
   ]
  },
  {
   "cell_type": "code",
   "execution_count": 14,
   "metadata": {},
   "outputs": [
    {
     "name": "stdout",
     "output_type": "stream",
     "text": [
      "Enter a number: 94\n",
      "Binary number --> 0b1011110\n",
      "Octal number --> 0o136\n",
      "Hexadecimal number --> 0x5e\n"
     ]
    }
   ],
   "source": [
    "\n",
    "def DecimalToOther():\n",
    "    \n",
    "    num = int(input(\"Enter a number: \"))\n",
    "    \n",
    "    print(\"Binary number -->\",bin(num))\n",
    "    print(\"Octal number -->\",oct(num))\n",
    "    print(\"Hexadecimal number -->\",hex(num))\n",
    "    \n",
    "DecimalToOther()"
   ]
  },
  {
   "cell_type": "markdown",
   "metadata": {},
   "source": [
    "**4.\tWrite a Python Program To Find ASCII value of a character?**"
   ]
  },
  {
   "cell_type": "code",
   "execution_count": 24,
   "metadata": {},
   "outputs": [
    {
     "name": "stdout",
     "output_type": "stream",
     "text": [
      "Enter a character w\n",
      "ASCII  value of w is 119\n"
     ]
    }
   ],
   "source": [
    "def charToAscii():\n",
    "    ch=input(\"Enter a character \")\n",
    "    if len(ch)>1:\n",
    "        print(\"Enter a single character\")\n",
    "        \n",
    "    else:\n",
    "        print(\"ASCII  value of {0} is {1}\".format(ch,ord(ch)))\n",
    "\n",
    "charToAscii()"
   ]
  },
  {
   "cell_type": "markdown",
   "metadata": {},
   "source": [
    "**5.\tWrite a Python Program to Make a Simple Calculator with 4 basic mathematical operations?**"
   ]
  },
  {
   "cell_type": "code",
   "execution_count": 1,
   "metadata": {},
   "outputs": [
    {
     "name": "stdout",
     "output_type": "stream",
     "text": [
      "Select operation.\n",
      "1.Add\n",
      "2.Subtract\n",
      "3.Multiply\n",
      "4.Divide\n",
      "Enter choice(1/2/3/4): 1\n",
      "Enter first number: 9\n",
      "Enter second number: 19\n",
      "Addition of 9.0 and 19.0 is 28.0\n",
      "Let's do next calculation? (yes/no): yes\n",
      "Enter choice(1/2/3/4): 2\n",
      "Enter first number: 30\n",
      "Enter second number: 12\n",
      "Substraction of 30.0 and 12.0 is 18.0\n",
      "Let's do next calculation? (yes/no): yes\n",
      "Enter choice(1/2/3/4): 3\n",
      "Enter first number: 26\n",
      "Enter second number: 9\n",
      "Multiplication of 26.0 and 9.0 is 234.0\n",
      "Let's do next calculation? (yes/no): yes\n",
      "Enter choice(1/2/3/4): 4\n",
      "Enter first number: 96\n",
      "Enter second number: 4\n",
      "Division of 96.0 and 4.0 is 24.0\n",
      "Let's do next calculation? (yes/no): no\n"
     ]
    }
   ],
   "source": [
    "\n",
    "def add(x, y):\n",
    "    return x + y\n",
    "\n",
    "def subtract(x, y):\n",
    "    return x - y\n",
    "\n",
    "def multiply(x, y):\n",
    "    return x * y\n",
    "\n",
    "def divide(x, y):\n",
    "    return x / y\n",
    "\n",
    "\n",
    "print(\"Select operation.\")\n",
    "print(\"1.Add\")\n",
    "print(\"2.Subtract\")\n",
    "print(\"3.Multiply\")\n",
    "print(\"4.Divide\")\n",
    "\n",
    "while True:\n",
    "    \n",
    "    choice = input(\"Enter choice(1/2/3/4): \")\n",
    "\n",
    "    if choice in ('1', '2', '3', '4'):\n",
    "        num1 = float(input(\"Enter first number: \"))\n",
    "        num2 = float(input(\"Enter second number: \"))\n",
    "\n",
    "        if choice == '1':\n",
    "            print(\"Addition of {0} and {1} is {2}\".format(num1,num2,add(num1, num2)))\n",
    "\n",
    "        elif choice == '2':\n",
    "            print(\"Substraction of {0} and {1} is {2}\".format(num1,num2,subtract(num1, num2)))\n",
    "\n",
    "        elif choice == '3':\n",
    "            print(\"Multiplication of {0} and {1} is {2}\".format(num1,num2,multiply(num1, num2)))\n",
    "\n",
    "        elif choice == '4':\n",
    "            print(\"Division of {0} and {1} is {2}\".format(num1,num2,divide(num1, num2)))\n",
    "        \n",
    "        \n",
    "        next_calculation = input(\"Let's do next calculation? (yes/no): \")\n",
    "        \n",
    "        if next_calculation == \"no\":\n",
    "            break\n",
    "            \n",
    "    else:\n",
    "        print(\"Invalid Input\")\n",
    "\n",
    "    "
   ]
  },
  {
   "cell_type": "code",
   "execution_count": null,
   "metadata": {},
   "outputs": [],
   "source": []
  }
 ],
 "metadata": {
  "kernelspec": {
   "display_name": "Python 3",
   "language": "python",
   "name": "python3"
  },
  "language_info": {
   "codemirror_mode": {
    "name": "ipython",
    "version": 3
   },
   "file_extension": ".py",
   "mimetype": "text/x-python",
   "name": "python",
   "nbconvert_exporter": "python",
   "pygments_lexer": "ipython3",
   "version": "3.6.5"
  }
 },
 "nbformat": 4,
 "nbformat_minor": 2
}
