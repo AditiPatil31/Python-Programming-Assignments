{
 "cells": [
  {
   "cell_type": "markdown",
   "metadata": {},
   "source": [
    "**Question 1:\n",
    "Please write a program using generator to print the numbers which can be divisible by 5 and 7 between 0 and n in comma separated form while n is input by console.\n",
    "**"
   ]
  },
  {
   "cell_type": "markdown",
   "metadata": {},
   "source": [
    "Example:\n",
    "If the following n is given as input to the program:\n",
    "100\n",
    "Then, the output of the program should be:\n",
    "0,35,70\n"
   ]
  },
  {
   "cell_type": "code",
   "execution_count": 4,
   "metadata": {},
   "outputs": [
    {
     "name": "stdout",
     "output_type": "stream",
     "text": [
      "Enter n value 100\n",
      "0,35,70\n"
     ]
    }
   ],
   "source": [
    "n=int(input(\"Enter n value \"))\n",
    "def generator_div(n):\n",
    "    \n",
    "    for num in range(n):\n",
    "        \n",
    "        if (num%5==0) and (num%7==0):\n",
    "            \n",
    "            yield num\n",
    "    \n",
    "    \n",
    "print(','.join(str(x) for x in generator_div(n)))"
   ]
  },
  {
   "cell_type": "markdown",
   "metadata": {},
   "source": [
    "**Question 2:\n",
    "Please write a program using generator to print the even numbers between 0 and n in comma separated form while n is input by console.\n",
    "**"
   ]
  },
  {
   "cell_type": "markdown",
   "metadata": {},
   "source": [
    "Example:\n",
    "<br>\n",
    "If the following n is given as input to the program:\n",
    "<br>\n",
    "10\n",
    "<br>\n",
    "Then, the output of the program should be:\n",
    "<br>\n",
    "0,2,4,6,8,10\n"
   ]
  },
  {
   "cell_type": "code",
   "execution_count": 3,
   "metadata": {},
   "outputs": [
    {
     "name": "stdout",
     "output_type": "stream",
     "text": [
      "Enter n value 10\n",
      "0,2,4,6,8,10\n"
     ]
    }
   ],
   "source": [
    "n=int(input(\"Enter n value \"))\n",
    "\n",
    "def generator_even(n):\n",
    "    \n",
    "    for num in range(n+1):\n",
    "        \n",
    "        if (num%2==0):\n",
    "            \n",
    "            yield num\n",
    "    \n",
    "    \n",
    "print(','.join(str(x) for x in generator_even(n)))"
   ]
  },
  {
   "cell_type": "markdown",
   "metadata": {},
   "source": [
    "**Question 3:\n",
    "The Fibonacci Sequence is computed based on the following formula:\n",
    "**"
   ]
  },
  {
   "cell_type": "markdown",
   "metadata": {},
   "source": [
    "f(n)=0 if n=0\n",
    "<br>\n",
    "f(n)=1 if n=1\n",
    "<br>\n",
    "f(n)=f(n-1)+f(n-2) if n>1\n",
    "<br>\n",
    "Please write a program using list comprehension to print the Fibonacci Sequence in comma separated form with a given n input by console.\n",
    "<br>\n",
    "Example:\n",
    "<br>\n",
    "If the following n is given as input to the program:\n",
    "<br>\n",
    "7\n",
    "<br>\n",
    "Then, the output of the program should be:\n",
    "0,1,1,2,3,5,8,13\n"
   ]
  },
  {
   "cell_type": "code",
   "execution_count": 29,
   "metadata": {},
   "outputs": [
    {
     "name": "stdout",
     "output_type": "stream",
     "text": [
      "Enter input n : 8\n",
      "0,1,1,2,3,5,8,13\n"
     ]
    }
   ],
   "source": [
    "n=int(input(\"Enter input n : \"))\n",
    "\n",
    "def fibonacci(n):\n",
    "    \n",
    "    series=[]\n",
    "    series.append(0)\n",
    "    series.append(1)\n",
    "    \n",
    "    [series.append(series[k-1]+series[k-2]) for k in range(2,n)]\n",
    "    \n",
    "    print(','.join(str(x) for x in series))\n",
    "    \n",
    "    \n",
    "fibonacci(n)"
   ]
  },
  {
   "cell_type": "markdown",
   "metadata": {},
   "source": [
    "**Question 4:\n",
    "Assuming that we have some email addresses in the \"username@companyname.com\" format, please write program to print the user name of a given email address. Both user names and company names are composed of letters only.\n",
    "**"
   ]
  },
  {
   "cell_type": "markdown",
   "metadata": {},
   "source": [
    "Example:\n",
    "<br>\n",
    "If the following email address is given as input to the program:\n",
    "<br>\n",
    "john@google.com\n",
    "<br>\n",
    "Then, the output of the program should be:\n",
    "<br>\n",
    "john\n"
   ]
  },
  {
   "cell_type": "code",
   "execution_count": 34,
   "metadata": {},
   "outputs": [
    {
     "name": "stdout",
     "output_type": "stream",
     "text": [
      "Enter email address : john@google.com\n",
      "john\n",
      "Enter email address : ineuron@ai.com\n",
      "ineuron\n"
     ]
    }
   ],
   "source": [
    "def username():\n",
    "    email=input(\"Enter email address : \")\n",
    "    \n",
    "    print(email.split('@')[0])\n",
    "    \n",
    "username()\n",
    "username()"
   ]
  },
  {
   "cell_type": "markdown",
   "metadata": {},
   "source": [
    "**Question 5:\n",
    "Define a class named Shape and its subclass Square. The Square class has an init function which takes a length as argument. Both classes have a area function which can print the area of the shape where Shape's area is 0 by default.\n",
    "**"
   ]
  },
  {
   "cell_type": "code",
   "execution_count": 50,
   "metadata": {},
   "outputs": [
    {
     "name": "stdout",
     "output_type": "stream",
     "text": [
      "225\n",
      "0\n"
     ]
    }
   ],
   "source": [
    "class Shape():\n",
    "    \n",
    "    def __init__(self):\n",
    "        pass\n",
    "    def area(self):\n",
    "        return 0\n",
    "    \n",
    "class Square(Shape):\n",
    "    \n",
    "    def __init__(self,l):\n",
    "        \n",
    "        self.length=l\n",
    "        \n",
    "    def area(self):\n",
    "        return self.length*self.length\n",
    "    \n",
    "\n",
    "print(Square(15).area())\n",
    "print(Shape().area())\n",
    "        "
   ]
  }
 ],
 "metadata": {
  "kernelspec": {
   "display_name": "Python 3",
   "language": "python",
   "name": "python3"
  },
  "language_info": {
   "codemirror_mode": {
    "name": "ipython",
    "version": 3
   },
   "file_extension": ".py",
   "mimetype": "text/x-python",
   "name": "python",
   "nbconvert_exporter": "python",
   "pygments_lexer": "ipython3",
   "version": "3.6.5"
  }
 },
 "nbformat": 4,
 "nbformat_minor": 2
}
