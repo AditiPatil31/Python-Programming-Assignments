{
 "cells": [
  {
   "cell_type": "markdown",
   "metadata": {},
   "source": [
    "**1.\tWrite a Python Program to Display Fibonacci Sequence Using Recursion?**"
   ]
  },
  {
   "cell_type": "code",
   "execution_count": 7,
   "metadata": {},
   "outputs": [
    {
     "name": "stdout",
     "output_type": "stream",
     "text": [
      "Enter no of terms 15\n",
      "Fibonacci Sequence :\n",
      "0\n",
      "1\n",
      "1\n",
      "2\n",
      "3\n",
      "5\n",
      "8\n",
      "13\n",
      "21\n",
      "34\n",
      "55\n",
      "89\n",
      "144\n",
      "233\n",
      "377\n"
     ]
    }
   ],
   "source": [
    "n=int(input(\"Enter no of terms \"))\n",
    "    \n",
    "def fibon(n):\n",
    "    \n",
    "    if n==0 or n==1:\n",
    "        return n\n",
    "    else:\n",
    "        return fibon(n-1)+fibon(n-2)\n",
    "\n",
    "print(\"Fibonacci Sequence :\")\n",
    "for i in range(n):\n",
    "    print(fibon(i))"
   ]
  },
  {
   "cell_type": "markdown",
   "metadata": {},
   "source": [
    "**2.\tWrite a Python Program to Find Factorial of Number Using Recursion?**"
   ]
  },
  {
   "cell_type": "code",
   "execution_count": 13,
   "metadata": {},
   "outputs": [
    {
     "name": "stdout",
     "output_type": "stream",
     "text": [
      "Enter a number 7\n",
      "Factorial of 7 is 5040\n"
     ]
    }
   ],
   "source": [
    "n=int(input(\"Enter a number \"))\n",
    "\n",
    "def fact(n):\n",
    "    \n",
    "    if  n==1:\n",
    "        return 1\n",
    "    else:\n",
    "        return n * fact(n-1)\n",
    "    \n",
    "if n<0:\n",
    "    print(\"Factorial of negative number does not exists \")\n",
    "    \n",
    "elif n==0:\n",
    "    print(\"Factorial of zero is 1\")\n",
    "\n",
    "else:\n",
    "    print(\"Factorial of {0} is {1}\".format(n,fact(n)))"
   ]
  },
  {
   "cell_type": "markdown",
   "metadata": {},
   "source": [
    "**3.\tWrite a Python Program to calculate your Body Mass Index?**"
   ]
  },
  {
   "cell_type": "code",
   "execution_count": 26,
   "metadata": {},
   "outputs": [
    {
     "name": "stdout",
     "output_type": "stream",
     "text": [
      "Enter weight in kg 64.5\n",
      "Enter height in meters 1.61\n",
      "BMI is 24.88 so Healthy\n"
     ]
    }
   ],
   "source": [
    "w=float(input(\"Enter weight in kg \"))\n",
    "h=float(input(\"Enter height in meters \"))\n",
    "\n",
    "def BMI(w,h):\n",
    "    \n",
    "    bmi=w/(h**2)\n",
    "    \n",
    "    return bmi\n",
    "\n",
    "bmi=BMI(w,h)\n",
    "print(\"BMI is\",round(bmi,2),\"so\",end=' ')\n",
    "    \n",
    "if (bmi < 18.5):\n",
    "    print(\"underweight\")\n",
    "        \n",
    "elif ( bmi >= 18.5 and bmi < 24.9):\n",
    "    print(\"Healthy\")\n",
    "\n",
    "     \n",
    "elif ( bmi >= 24.9 and bmi < 30):\n",
    "    print(\"overweight\")\n",
    "        \n",
    "        \n",
    "elif ( bmi >=30):\n",
    "    print(\"Suffering from Obesity\")\n",
    "        \n"
   ]
  },
  {
   "cell_type": "markdown",
   "metadata": {},
   "source": [
    "**4.\tWrite a Python Program to calculate the natural logarithm of any number?**"
   ]
  },
  {
   "cell_type": "code",
   "execution_count": 31,
   "metadata": {},
   "outputs": [
    {
     "name": "stdout",
     "output_type": "stream",
     "text": [
      "Enter a number 5\n",
      "1.6094379124341003\n"
     ]
    }
   ],
   "source": [
    "import math\n",
    "\n",
    "def nlog():\n",
    "    num=int(input(\"Enter a number \"))\n",
    "    print(math.log(num))\n",
    "\n",
    "nlog()"
   ]
  },
  {
   "cell_type": "markdown",
   "metadata": {},
   "source": [
    "**5.\tWrite a Python Program for cube sum of first n natural numbers?**"
   ]
  },
  {
   "cell_type": "code",
   "execution_count": 39,
   "metadata": {},
   "outputs": [
    {
     "name": "stdout",
     "output_type": "stream",
     "text": [
      "Enter no of natural number 5\n",
      "Cube sum of first 5 numbers is 225\n"
     ]
    }
   ],
   "source": [
    "\n",
    "n=int(input(\"Enter no of natural number \"))\n",
    "\n",
    "def cubsum(n):\n",
    "    \n",
    "    c=(n*(n+1)/2)\n",
    "    \n",
    "    return int(c*c)\n",
    "     \n",
    "\n",
    "sum=cubsum(n)\n",
    "print(\"Cube sum of first {0} numbers is {1}\".format(n,sum))\n",
    "        "
   ]
  }
 ],
 "metadata": {
  "kernelspec": {
   "display_name": "Python 3",
   "language": "python",
   "name": "python3"
  },
  "language_info": {
   "codemirror_mode": {
    "name": "ipython",
    "version": 3
   },
   "file_extension": ".py",
   "mimetype": "text/x-python",
   "name": "python",
   "nbconvert_exporter": "python",
   "pygments_lexer": "ipython3",
   "version": "3.6.5"
  }
 },
 "nbformat": 4,
 "nbformat_minor": 2
}
