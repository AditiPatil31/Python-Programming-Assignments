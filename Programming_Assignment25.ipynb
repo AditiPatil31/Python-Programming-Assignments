{
 "cells": [
  {
   "cell_type": "markdown",
   "metadata": {},
   "source": [
    "**Question1\n",
    "Create a function that takes three integer arguments (a, b, c) and returns the amount of integers which are of equal value.\n",
    "**"
   ]
  },
  {
   "cell_type": "markdown",
   "metadata": {},
   "source": [
    "Examples\n",
    "<br>\n",
    "equal(3, 4, 3) ➞ 2\n",
    "<br>\n",
    "equal(1, 1, 1) ➞ 3\n",
    "<br>\n",
    "equal(3, 4, 1) ➞ 0 \n",
    "<br>\n",
    "Notes\n",
    "<br>\n",
    "Your function must return 0, 2 or 3.\n"
   ]
  },
  {
   "cell_type": "code",
   "execution_count": 24,
   "metadata": {},
   "outputs": [
    {
     "name": "stdout",
     "output_type": "stream",
     "text": [
      "equal(3,4,3) --> 2\n",
      "equal(1,1,1) --> 3\n",
      "equal(3,4,1) --> 0\n"
     ]
    }
   ],
   "source": [
    "def equal(a,b,c):\n",
    "    \n",
    "    if a==b and b==c:\n",
    "        print(f'equal({a},{b},{c}) --> {3}')\n",
    "        \n",
    "    elif a==b!=c or a==c!=b or b==c!=a:\n",
    "         print(f'equal({a},{b},{c}) --> {2}')\n",
    "    \n",
    "        \n",
    "    else:\n",
    "        print(f'equal({a},{b},{c}) --> {0}')\n",
    "\n",
    "            \n",
    "equal(3, 4, 3)\n",
    "equal(1, 1, 1)\n",
    "equal(3, 4, 1)"
   ]
  },
  {
   "cell_type": "markdown",
   "metadata": {},
   "source": [
    "**Question2\n",
    "Write a function that converts a dictionary into a list of keys-values tuples.\n",
    "**"
   ]
  },
  {
   "cell_type": "markdown",
   "metadata": {},
   "source": [
    "Examples\n",
    "<br>\n",
    "dict_to_list({\n",
    "  \"D\": 1,\n",
    "  \"B\": 2,\n",
    "  \"C\": 3\n",
    "}) ➞ [(\"B\", 2), (\"C\", 3), (\"D\", 1)]\n",
    "<br>\n",
    "dict_to_list({\n",
    "  \"likes\": 2,\n",
    "  \"dislikes\": 3,\n",
    "  \"followers\": 10\n",
    "}) ➞ [(\"dislikes\", 3), (\"followers\", 10), (\"likes\", 2)]\n",
    "<br>\n",
    "Notes\n",
    "<br>\n",
    "Return the elements in the list in alphabetical order.\n",
    "\n"
   ]
  },
  {
   "cell_type": "code",
   "execution_count": 35,
   "metadata": {},
   "outputs": [
    {
     "name": "stdout",
     "output_type": "stream",
     "text": [
      "dict_to_list({'D': 1, 'B': 2, 'C': 3})  --> [('B', 2), ('C', 3), ('D', 1)]\n",
      "dict_to_list({'likes': 2, 'dislikes': 3, 'followers': 10})  --> [('dislikes', 3), ('followers', 10), ('likes', 2)]\n"
     ]
    }
   ],
   "source": [
    "def dict_to_list(dic):\n",
    "    \n",
    "    key=sorted(list(dic.keys()))\n",
    "    value=[dic[i] for i in key]\n",
    "    \n",
    "    tup=[(key[i],value[i]) for i in range(len(key))]\n",
    "    \n",
    "    print(f'dict_to_list({dic})  --> {tup}')\n",
    "    \n",
    "dict_to_list({ \"D\": 1, \"B\": 2, \"C\": 3 })\n",
    "dict_to_list({ \"likes\": 2, \"dislikes\": 3, \"followers\": 10 })"
   ]
  },
  {
   "cell_type": "markdown",
   "metadata": {},
   "source": [
    "**Question3\n",
    "Write a function that creates a dictionary with each (key, value) pair being the (lower case, upper case) versions of a letter, respectively.\n",
    "**"
   ]
  },
  {
   "cell_type": "markdown",
   "metadata": {},
   "source": [
    "Examples\n",
    "<br>\n",
    "mapping([\"p\", \"s\"]) ➞ { \"p\": \"P\", \"s\": \"S\" }\n",
    "<br>\n",
    "mapping([\"a\", \"b\", \"c\"]) ➞ { \"a\": \"A\", \"b\": \"B\", \"c\": \"C\" }\n",
    "<br>\n",
    "mapping([\"a\", \"v\", \"y\", \"z\"]) ➞ { \"a\": \"A\", \"v\": \"V\", \"y\": \"Y\", \"z\": \"Z\" }\n",
    "<br>\n",
    "Notes\n",
    "All of the letters in the input list will always be lowercase.\n"
   ]
  },
  {
   "cell_type": "code",
   "execution_count": 40,
   "metadata": {},
   "outputs": [
    {
     "name": "stdout",
     "output_type": "stream",
     "text": [
      "mapping(['p', 's']) --> {'p': 'P', 's': 'S'}\n",
      "mapping(['a', 'b', 'c']) --> {'a': 'A', 'b': 'B', 'c': 'C'}\n",
      "mapping(['a', 'v', 'y', 'z']) --> {'a': 'A', 'v': 'V', 'y': 'Y', 'z': 'Z'}\n"
     ]
    }
   ],
   "source": [
    "def mapping(lst):\n",
    "    \n",
    "    d={}\n",
    "    \n",
    "    for l in lst:\n",
    "        d[l]=l.upper()\n",
    "        \n",
    "    print(f'mapping({lst}) --> {d}')\n",
    "    \n",
    "mapping([\"p\", \"s\"]) \n",
    "mapping([\"a\", \"b\", \"c\"])\n",
    "mapping([\"a\", \"v\", \"y\", \"z\"])"
   ]
  },
  {
   "cell_type": "markdown",
   "metadata": {},
   "source": [
    "**Question4\n",
    "Write a function, that replaces all vowels in a string with a specified vowel.\n",
    "**"
   ]
  },
  {
   "cell_type": "markdown",
   "metadata": {},
   "source": [
    "Examples\n",
    "<br>\n",
    "vow_replace(\"apples and bananas\", \"u\") ➞ \"upplus und bununus\"\n",
    "<br>\n",
    "vow_replace(\"cheese casserole\", \"o\") ➞ \"chooso cossorolo\"\n",
    "<br>\n",
    "vow_replace(\"stuffed jalapeno poppers\", \"e\") ➞ \"steffed jelepene peppers\"\n",
    "<br>\n",
    "Notes\n",
    "<br>\n",
    "All words will be lowercase. Y is not considered a vowel.\n"
   ]
  },
  {
   "cell_type": "code",
   "execution_count": 49,
   "metadata": {},
   "outputs": [
    {
     "name": "stdout",
     "output_type": "stream",
     "text": [
      "vow_replace(('upplus und bununus', 'u')) --> \"upplus und bununus\"\n",
      "vow_replace(('chooso cossorolo', 'o')) --> \"chooso cossorolo\"\n",
      "vow_replace(('steffed jelepene peppers', 'e')) --> \"steffed jelepene peppers\"\n"
     ]
    }
   ],
   "source": [
    "def vow_replace(string,vowel):\n",
    "    v=['a','e','i','o','u']\n",
    "    \n",
    "    for ch in string:\n",
    "        \n",
    "        if ch in v:\n",
    "            string=string.replace(ch,vowel)\n",
    "            \n",
    "    print(f'vow_replace({string,vowel}) --> \"{string}\"')\n",
    "    \n",
    "vow_replace(\"apples and bananas\", \"u\")\n",
    "vow_replace(\"cheese casserole\", \"o\")\n",
    "vow_replace(\"stuffed jalapeno poppers\", \"e\")\n"
   ]
  },
  {
   "cell_type": "markdown",
   "metadata": {},
   "source": [
    "**Question5\n",
    "Create a function that takes a string as input and capitalizes a letter if its ASCII code is even and returns its lower case version if its ASCII code is odd.\n",
    "**"
   ]
  },
  {
   "cell_type": "markdown",
   "metadata": {},
   "source": [
    "Examples\n",
    "<br>\n",
    "ascii_capitalize(\"to be or not to be!\") ➞ \"To Be oR NoT To Be!\"\n",
    "<br>\n",
    "ascii_capitalize(\"THE LITTLE MERMAID\") ➞ \"THe LiTTLe meRmaiD\"\n",
    "<br>\n",
    "ascii_capitalize(\"Oh what a beautiful morning.\") ➞ \"oH wHaT a BeauTiFuL moRNiNg.\"\n",
    "\n"
   ]
  },
  {
   "cell_type": "code",
   "execution_count": 60,
   "metadata": {},
   "outputs": [
    {
     "name": "stdout",
     "output_type": "stream",
     "text": [
      "ascii_capitalize(To Be oR NoT To Be!)  --> \"To Be oR NoT To Be!\"\n",
      "ascii_capitalize(THe LiTTLe meRmaiD)  --> \"THe LiTTLe meRmaiD\"\n",
      "ascii_capitalize(oH wHaT a BeauTiFuL moRNiNg.)  --> \"oH wHaT a BeauTiFuL moRNiNg.\"\n"
     ]
    }
   ],
   "source": [
    "def ascii_capitalize(string):\n",
    "    \n",
    "    for ch in string:\n",
    "        \n",
    "        if ord(ch)%2==0:\n",
    "            string=string.replace(ch,ch.upper())\n",
    "            \n",
    "        else:\n",
    "            string=string.replace(ch,ch.lower())\n",
    "    print(f'ascii_capitalize({string})  --> \"{string}\"')\n",
    "    \n",
    "ascii_capitalize(\"to be or not to be!\")   \n",
    "ascii_capitalize(\"THE LITTLE MERMAID\")\n",
    "ascii_capitalize(\"Oh what a beautiful morning.\")"
   ]
  }
 ],
 "metadata": {
  "kernelspec": {
   "display_name": "Python 3",
   "language": "python",
   "name": "python3"
  },
  "language_info": {
   "codemirror_mode": {
    "name": "ipython",
    "version": 3
   },
   "file_extension": ".py",
   "mimetype": "text/x-python",
   "name": "python",
   "nbconvert_exporter": "python",
   "pygments_lexer": "ipython3",
   "version": "3.6.5"
  }
 },
 "nbformat": 4,
 "nbformat_minor": 2
}
