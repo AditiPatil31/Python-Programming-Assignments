{
 "cells": [
  {
   "cell_type": "markdown",
   "metadata": {},
   "source": [
    "**Question1\n",
    "Create a function that takes a string and returns a string in which each character is repeated once.\n",
    "**"
   ]
  },
  {
   "cell_type": "markdown",
   "metadata": {},
   "source": [
    "Examples\n",
    "<br>\n",
    "double_char(\"String\") ➞ \"SSttrriinngg\"\n",
    "<br>\n",
    "\n",
    "double_char(\"Hello World!\") ➞ \"HHeelllloo  WWoorrlldd!!\"\n",
    "<br>\n",
    "\n",
    "double_char(\"1234!_ \") ➞ \"11223344!!__  \"\n",
    "\n"
   ]
  },
  {
   "cell_type": "code",
   "execution_count": 6,
   "metadata": {},
   "outputs": [
    {
     "name": "stdout",
     "output_type": "stream",
     "text": [
      "charRepeat(\"String\") --> \"SSttrriinngg\"\n",
      "charRepeat(\"Hello World!\") --> \"HHeelllloo  WWoorrlldd!!\"\n",
      "charRepeat(\"1234!_ \") --> \"11223344!!__  \"\n"
     ]
    }
   ],
   "source": [
    "def double_char(string):\n",
    "    \n",
    "    new_str=''\n",
    "    \n",
    "    for i in string:\n",
    "        new_str += i*2\n",
    "        \n",
    "    print(f'charRepeat(\"{string}\") --> \"{new_str}\"')\n",
    "          \n",
    "double_char(\"String\")\n",
    "double_char(\"Hello World!\")\n",
    "double_char(\"1234!_ \")\n",
    "    "
   ]
  },
  {
   "cell_type": "markdown",
   "metadata": {},
   "source": [
    "**Question2**\n",
    "Create a function that reverses a boolean value and returns the string \"boolean expected\" if another variable type is given.\n",
    "**"
   ]
  },
  {
   "cell_type": "markdown",
   "metadata": {},
   "source": [
    "Examples\n",
    "reverse(True) ➞ False\n",
    "\n",
    "reverse(False) ➞ True\n",
    "\n",
    "reverse(0) ➞ \"boolean expected\"\n",
    "\n",
    "reverse(None) ➞ \"boolean expected\""
   ]
  },
  {
   "cell_type": "code",
   "execution_count": 19,
   "metadata": {},
   "outputs": [
    {
     "name": "stdout",
     "output_type": "stream",
     "text": [
      "reverse(True) --> False\n",
      "reverse(False) --> True\n",
      "reverse(0) --> boolean expected\n",
      "reverse(None) --> boolean expected\n"
     ]
    }
   ],
   "source": [
    "def reverse(val):\n",
    "    if type(val)==bool:\n",
    "        return not val\n",
    "    \n",
    "    else:\n",
    "        return \"boolean expected\"\n",
    "\n",
    "print(f'reverse(True) --> {reverse(True)}')\n",
    "print(f'reverse(False) --> {reverse(False)}')\n",
    "print(f'reverse(0) --> {reverse(0)}')\n",
    "print(f'reverse(None) --> {reverse(None)}')"
   ]
  },
  {
   "cell_type": "markdown",
   "metadata": {},
   "source": [
    "**Question3\n",
    "Create a function that returns the thickness (in meters) of a piece of paper after folding it n number of times. The paper starts off with a thickness of 0.5mm.\n",
    "**"
   ]
  },
  {
   "cell_type": "markdown",
   "metadata": {},
   "source": [
    "Examples\n",
    "num_layers(1) ➞ \"0.001m\"\n",
    "# Paper folded once is 1mm (equal to 0.001m)\n",
    "\n",
    "num_layers(4) ➞ \"0.008m\"\n",
    "# Paper folded 4 times is 8mm (equal to 0.008m)\n",
    "\n",
    "num_layers(21) ➞ \"1048.576m\"\n",
    "# Paper folded 21 times is 1048576mm (equal to 1048.576m)\n",
    "\n"
   ]
  },
  {
   "cell_type": "code",
   "execution_count": 54,
   "metadata": {},
   "outputs": [
    {
     "name": "stdout",
     "output_type": "stream",
     "text": [
      "num_layers(1) --> \"0.001m\"\n",
      "Paper folded 1 times is 1mm (equal to 0.001m)\n",
      "num_layers(4) --> \"0.008m\"\n",
      "Paper folded 4 times is 8mm (equal to 0.008m)\n",
      "num_layers(21) --> \"1048.576m\"\n",
      "Paper folded 21 times is 1048576mm (equal to 1048.576m)\n"
     ]
    }
   ],
   "source": [
    "def num_layers(folding):\n",
    "    \n",
    "    thick_mm =  (2**folding) *0.5\n",
    "    thickness_m = thick_mm * 0.001\n",
    "    \n",
    "    print(f'num_layers({folding}) --> \"{thickness_m}m\"') \n",
    "    print(f'Paper folded {folding} times is {int(thick_mm)}mm (equal to {thickness_m}m)')\n",
    "    \n",
    "    \n",
    "num_layers(1)\n",
    "num_layers(4)\n",
    "num_layers(21)\n",
    "    "
   ]
  },
  {
   "cell_type": "markdown",
   "metadata": {},
   "source": [
    "**Question4\n",
    "Create a function that takes a single string as argument and returns an ordered list containing the indices of all capital letters in the string.\n",
    "**"
   ]
  },
  {
   "cell_type": "markdown",
   "metadata": {},
   "source": [
    "Examples\n",
    "<br>\n",
    "index_of_caps(\"eDaBiT\") ➞ [1, 3, 5]\n",
    "<br>\n",
    "index_of_caps(\"eQuINoX\") ➞ [1, 3, 4, 6]\n",
    "<br>\n",
    "index_of_caps(\"determine\") ➞ []\n",
    "<br>\n",
    "index_of_caps(\"STRIKE\") ➞ [0, 1, 2, 3, 4, 5]\n",
    "<br>\n",
    "index_of_caps(\"sUn\") ➞ [1]\n",
    "\n"
   ]
  },
  {
   "cell_type": "code",
   "execution_count": 60,
   "metadata": {},
   "outputs": [
    {
     "name": "stdout",
     "output_type": "stream",
     "text": [
      "index_of_caps(\"eDaBiT\") --> [1, 3, 5]\n",
      "index_of_caps(\"eQuINoX\") --> [1, 3, 4, 6]\n",
      "index_of_caps(\"determine\") --> []\n",
      "index_of_caps(\"STRIKE\") --> [0, 1, 2, 3, 4, 5]\n",
      "index_of_caps(\"sUn\") --> [1]\n"
     ]
    }
   ],
   "source": [
    "def index_of_caps(string):\n",
    "    indices=[]\n",
    "    for i in range(len(string)):\n",
    "        if string[i].isupper():\n",
    "            indices.append(i)\n",
    "    print(f'index_of_caps(\"{string}\") --> {indices}')\n",
    "\n",
    "index_of_caps(\"eDaBiT\")\n",
    "index_of_caps(\"eQuINoX\")\n",
    "index_of_caps(\"determine\")\n",
    "index_of_caps(\"STRIKE\")\n",
    "index_of_caps(\"sUn\")"
   ]
  },
  {
   "cell_type": "markdown",
   "metadata": {},
   "source": [
    "**Question5\n",
    "Using list comprehensions, create a function that finds all even numbers from 1 to the given number.\n",
    "**"
   ]
  },
  {
   "cell_type": "markdown",
   "metadata": {},
   "source": [
    "Examples\n",
    "<br>\n",
    "find_even_nums(8) ➞ [2, 4, 6, 8]\n",
    "<br>\n",
    "\n",
    "find_even_nums(4) ➞ [2, 4]\n",
    "<br>\n",
    "\n",
    "find_even_nums(2) ➞ [2]"
   ]
  },
  {
   "cell_type": "code",
   "execution_count": 63,
   "metadata": {},
   "outputs": [
    {
     "name": "stdout",
     "output_type": "stream",
     "text": [
      "find_even_nums(8) --> [2, 4, 6, 8]\n",
      "find_even_nums(4) --> [2, 4]\n",
      "find_even_nums(2) --> [2]\n"
     ]
    }
   ],
   "source": [
    "def find_even_nums(n):\n",
    "    lst=[i for i in range(1,n+1) if i%2==0]\n",
    "    print(f'find_even_nums({n}) --> {lst}')\n",
    "\n",
    "find_even_nums(8)\n",
    "find_even_nums(4)\n",
    "find_even_nums(2)"
   ]
  }
 ],
 "metadata": {
  "kernelspec": {
   "display_name": "Python 3",
   "language": "python",
   "name": "python3"
  },
  "language_info": {
   "codemirror_mode": {
    "name": "ipython",
    "version": 3
   },
   "file_extension": ".py",
   "mimetype": "text/x-python",
   "name": "python",
   "nbconvert_exporter": "python",
   "pygments_lexer": "ipython3",
   "version": "3.6.5"
  }
 },
 "nbformat": 4,
 "nbformat_minor": 2
}
