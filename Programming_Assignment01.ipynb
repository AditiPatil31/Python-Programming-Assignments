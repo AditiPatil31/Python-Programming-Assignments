{
 "cells": [
  {
   "cell_type": "markdown",
   "metadata": {},
   "source": [
    "**1.Write a Python program to print \"Hello Python\"?**"
   ]
  },
  {
   "cell_type": "code",
   "execution_count": 1,
   "metadata": {},
   "outputs": [
    {
     "name": "stdout",
     "output_type": "stream",
     "text": [
      "Hello Python\n"
     ]
    }
   ],
   "source": [
    "print(\"Hello Python\")"
   ]
  },
  {
   "cell_type": "markdown",
   "metadata": {},
   "source": [
    "**2.\tWrite a Python program to do arithmetical operations addition and division.?**"
   ]
  },
  {
   "cell_type": "code",
   "execution_count": 2,
   "metadata": {},
   "outputs": [
    {
     "name": "stdout",
     "output_type": "stream",
     "text": [
      "Enter first number 25\n",
      "Enter second number 5\n",
      "Which operation do you want to perform\n",
      "Write Addition or Division :Addition\n",
      "Addition of 25 and 5 is 30\n"
     ]
    }
   ],
   "source": [
    "num1=int(input(\"Enter first number \"))\n",
    "num2=int(input(\"Enter second number \"))\n",
    "\n",
    "print(\"Which operation do you want to perform\")\n",
    "\n",
    "op=input(\"Write Addition or Division :\")\n",
    "\n",
    "result=0\n",
    "\n",
    "if op== 'Addition':\n",
    "    result = num1 + num2\n",
    "    \n",
    "elif op== 'Division':\n",
    "    result = num1 / num2\n",
    "    \n",
    "else:\n",
    "    print(\"Enter correct operation\")\n",
    "    \n",
    "print(\"{0} of {1} and {2} is {3}\".format(op,num1,num2,result))"
   ]
  },
  {
   "cell_type": "code",
   "execution_count": 3,
   "metadata": {},
   "outputs": [
    {
     "name": "stdout",
     "output_type": "stream",
     "text": [
      "Enter first number 81\n",
      "Enter second number 3\n",
      "Which operation do you want to perform\n",
      "Write Addition or Division :Division\n",
      "Division of 81 and 3 is 27.0\n"
     ]
    }
   ],
   "source": [
    "num1=int(input(\"Enter first number \"))\n",
    "num2=int(input(\"Enter second number \"))\n",
    "\n",
    "print(\"Which operation do you want to perform\")\n",
    "\n",
    "op=input(\"Write Addition or Division :\")\n",
    "\n",
    "result=0\n",
    "\n",
    "if op== 'Addition':\n",
    "    result = num1 + num2\n",
    "    \n",
    "elif op== 'Division':\n",
    "    result = num1 / num2\n",
    "    \n",
    "else:\n",
    "    print(\"Enter correct operation\")\n",
    "    \n",
    "print(\"{0} of {1} and {2} is {3}\".format(op,num1,num2,result))"
   ]
  },
  {
   "cell_type": "markdown",
   "metadata": {},
   "source": [
    "**3.\tWrite a Python program to find the area of a triangle?**"
   ]
  },
  {
   "cell_type": "code",
   "execution_count": 8,
   "metadata": {},
   "outputs": [
    {
     "name": "stdout",
     "output_type": "stream",
     "text": [
      "Enter height of a triangle :50.5\n",
      "Enter base of a traingle :35.7\n",
      "Area of a traingle is  901.43\n"
     ]
    }
   ],
   "source": [
    "h=float(input(\"Enter height of a triangle :\"))\n",
    "b=float(input(\"Enter base of a traingle :\"))\n",
    "\n",
    "area=0.5*h*b\n",
    "print(\"Area of a traingle is \",round(area,2))"
   ]
  },
  {
   "cell_type": "markdown",
   "metadata": {},
   "source": [
    "**4.\tWrite a Python program to swap two variables?**"
   ]
  },
  {
   "cell_type": "code",
   "execution_count": 17,
   "metadata": {},
   "outputs": [
    {
     "name": "stdout",
     "output_type": "stream",
     "text": [
      "Enter first number  50\n",
      "Enter second number 10\n",
      "after swapping--> 10 50\n"
     ]
    }
   ],
   "source": [
    "x=int(input(\"Enter first number  \"))\n",
    "y=int(input(\"Enter second number \"))\n",
    "\n",
    "x=x+y\n",
    "y=x-y\n",
    "x=x-y\n",
    "\n",
    "\n",
    "print(\"after swapping-->\",x,y)\n"
   ]
  },
  {
   "cell_type": "markdown",
   "metadata": {},
   "source": [
    "**5.\tWrite a Python program to generate a random number?**"
   ]
  },
  {
   "cell_type": "code",
   "execution_count": 23,
   "metadata": {},
   "outputs": [
    {
     "data": {
      "text/plain": [
       "96"
      ]
     },
     "execution_count": 23,
     "metadata": {},
     "output_type": "execute_result"
    }
   ],
   "source": [
    "import random\n",
    "\n",
    "def generatenum(a,b):\n",
    "    num=random.randint(a,b)\n",
    "    return num\n",
    "\n",
    "generatenum(0,100)"
   ]
  }
 ],
 "metadata": {
  "kernelspec": {
   "display_name": "Python 3",
   "language": "python",
   "name": "python3"
  },
  "language_info": {
   "codemirror_mode": {
    "name": "ipython",
    "version": 3
   },
   "file_extension": ".py",
   "mimetype": "text/x-python",
   "name": "python",
   "nbconvert_exporter": "python",
   "pygments_lexer": "ipython3",
   "version": "3.6.5"
  }
 },
 "nbformat": 4,
 "nbformat_minor": 2
}
