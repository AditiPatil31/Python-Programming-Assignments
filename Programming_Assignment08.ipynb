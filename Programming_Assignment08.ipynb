{
 "cells": [
  {
   "cell_type": "markdown",
   "metadata": {},
   "source": [
    "**1.\tWrite a Python Program to Add Two Matrices?**"
   ]
  },
  {
   "cell_type": "code",
   "execution_count": 1,
   "metadata": {},
   "outputs": [],
   "source": [
    "\n",
    "def matrix_add():\n",
    "    \n",
    "    A=eval(input(\"Enter a matrix \"))\n",
    "    B=eval(input(\"Enter a matrix \"))\n",
    "\n",
    "    if ((len(A[0])==len(B[0])) and (len(A)==len(B))):\n",
    "        \n",
    "        print(\"Addition can be done as matrices are of same size \")\n",
    "        \n",
    "        #Create zero matrix\n",
    "        result=[([0]*len(B)) for row in range(len(A[0]))]\n",
    "        \n",
    "        for i in range(len(A)):\n",
    "            \n",
    "            for j in range(len(A[0])):\n",
    "                \n",
    "                result[i][j]=A[i][j] + B[i][j]\n",
    "        \n",
    "        #To display array in matrix form\n",
    "        for r in result:\n",
    "            print(r)\n",
    "        return\n",
    "        \n",
    "    else:\n",
    "        print(\"Addition not Possible\")\n",
    "        print(\"Enter matrices with same size\")\n",
    "        \n",
    "    "
   ]
  },
  {
   "cell_type": "code",
   "execution_count": 3,
   "metadata": {},
   "outputs": [
    {
     "name": "stdout",
     "output_type": "stream",
     "text": [
      "Enter a matrix [[1,3,4],[2,4,6],[5,5,1]]\n",
      "Enter a matrix [[2,1,3],[2,1,2],[1,3,2]]\n",
      "Addition can be done as matrices are of same size \n",
      "[3, 4, 7]\n",
      "[4, 5, 8]\n",
      "[6, 8, 3]\n"
     ]
    }
   ],
   "source": [
    "matrix_add()"
   ]
  },
  {
   "cell_type": "code",
   "execution_count": 4,
   "metadata": {},
   "outputs": [
    {
     "name": "stdout",
     "output_type": "stream",
     "text": [
      "Enter a matrix [[1,2],[3,4]]\n",
      "Enter a matrix [[1,4],[5,6],[7,8],[9,6]]\n",
      "Addition not Possible\n",
      "Enter matrices with same size\n"
     ]
    }
   ],
   "source": [
    "matrix_add()"
   ]
  },
  {
   "cell_type": "markdown",
   "metadata": {},
   "source": [
    "**2.\tWrite a Python Program to Multiply Two Matrices?**"
   ]
  },
  {
   "cell_type": "code",
   "execution_count": 1,
   "metadata": {},
   "outputs": [],
   "source": [
    "def matrix_mul():\n",
    "    \n",
    "    A=eval(input(\"Enter a matrix \"))\n",
    "    B=eval(input(\"Enter a matrix \"))\n",
    "    \n",
    "    if (len(A[0])!=len(B)):\n",
    "        print(\"Multiplication Not possible\")\n",
    "        return\n",
    "    if(len(A[0])==len(B)):\n",
    "        \n",
    "        print(\"Multiplication of given two matrix is \")\n",
    "        \n",
    "        #create a zero matrix\n",
    "        result = [( [0]*len(B[0])) for row in range(len(A))]\n",
    "        \n",
    "        for i in range(len(A)):\n",
    "            for j in range(len(B[0])):\n",
    "                for k in range(len(A[0])):\n",
    "                    result[i][j] += A[i][k] * B[k][j]\n",
    "                    \n",
    "        for r in result:\n",
    "            print(r)\n",
    "        return\n",
    "        \n",
    "    "
   ]
  },
  {
   "cell_type": "code",
   "execution_count": 2,
   "metadata": {},
   "outputs": [
    {
     "name": "stdout",
     "output_type": "stream",
     "text": [
      "Enter a matrix [[12, 7, 3],[4, 5, 6],[7, 8, 9]]  \n",
      "Enter a matrix [[5, 8, 1, 2],[6, 7, 3, 0],[4, 5, 9, 1]]\n",
      "Multiplication of given two matrix is \n",
      "[114, 160, 60, 27]\n",
      "[74, 97, 73, 14]\n",
      "[119, 157, 112, 23]\n"
     ]
    }
   ],
   "source": [
    "matrix_mul()"
   ]
  },
  {
   "cell_type": "code",
   "execution_count": 3,
   "metadata": {},
   "outputs": [
    {
     "name": "stdout",
     "output_type": "stream",
     "text": [
      "Enter a matrix [[1,2],[3,4]]\n",
      "Enter a matrix [[1,4],[5,6],[7,8],[9,6]]\n",
      "Multiplication Not possible\n"
     ]
    }
   ],
   "source": [
    "matrix_mul()"
   ]
  },
  {
   "cell_type": "markdown",
   "metadata": {},
   "source": [
    "**3.\tWrite a Python Program to Transpose a Matrix?**"
   ]
  },
  {
   "cell_type": "code",
   "execution_count": 15,
   "metadata": {},
   "outputs": [
    {
     "name": "stdout",
     "output_type": "stream",
     "text": [
      "Enter a matrix [[12,7],[4 ,5],[3 ,8]]\n",
      "Transpose of given matrix is  [[12, 4, 3], [7, 5, 8]]\n"
     ]
    }
   ],
   "source": [
    "def Transpose():\n",
    "    \n",
    "    A=eval(input(\"Enter a matrix \"))\n",
    "    \n",
    "    result=[([0]*len(A)) for row in range(len(A[0]))]\n",
    "    \n",
    "    for i in range(len(A)):\n",
    "        \n",
    "        for j in range(len(A[0])):\n",
    "            \n",
    "            result[j][i]=A[i][j]\n",
    "            \n",
    "    return result\n",
    "\n",
    "t=Transpose()\n",
    "\n",
    "print(\"Transpose of given matrix is \",t)"
   ]
  },
  {
   "cell_type": "markdown",
   "metadata": {},
   "source": [
    "**4.\tWrite a Python Program to Sort Words in Alphabetic Order?**"
   ]
  },
  {
   "cell_type": "code",
   "execution_count": 51,
   "metadata": {},
   "outputs": [
    {
     "name": "stdout",
     "output_type": "stream",
     "text": [
      "Enter a string :Hello This is an example of python program\n",
      "After Sorting :  ['an', 'example', 'hello', 'is', 'of', 'program', 'python', 'this']\n"
     ]
    }
   ],
   "source": [
    "def sort_words():\n",
    "    \n",
    "    str=input(\"Enter a string :\").title()\n",
    "    \n",
    "    word=[w.lower() for w in str.split()]\n",
    "    \n",
    "    w1=sorted(word)\n",
    "    \n",
    "    return w1\n",
    "        \n",
    "print(\"After Sorting : \",sort_words())"
   ]
  },
  {
   "cell_type": "markdown",
   "metadata": {},
   "source": [
    "**5.\tWrite a Python Program to Remove Punctuation From a String?**"
   ]
  },
  {
   "cell_type": "code",
   "execution_count": 59,
   "metadata": {},
   "outputs": [
    {
     "name": "stdout",
     "output_type": "stream",
     "text": [
      "String after removing Punctuations is :\n"
     ]
    },
    {
     "data": {
      "text/plain": [
       "'hello he said and  went'"
      ]
     },
     "execution_count": 59,
     "metadata": {},
     "output_type": "execute_result"
    }
   ],
   "source": [
    "def Punctuation(string):\n",
    "    \n",
    "    punctuations = '''!()-[]{};:'\"\\,<>./?@#$%^&*_~'''\n",
    "    \n",
    "    str=string.lower()\n",
    "    \n",
    "    for i in str:\n",
    "        if i in punctuations:\n",
    "            str=str.replace(i,\"\")\n",
    "            \n",
    "    return str\n",
    "\n",
    "print(\"String after removing Punctuations is :\")\n",
    "Punctuation(\"Hello!!!, %he ::said ---and @ #went.\")"
   ]
  }
 ],
 "metadata": {
  "kernelspec": {
   "display_name": "Python 3",
   "language": "python",
   "name": "python3"
  },
  "language_info": {
   "codemirror_mode": {
    "name": "ipython",
    "version": 3
   },
   "file_extension": ".py",
   "mimetype": "text/x-python",
   "name": "python",
   "nbconvert_exporter": "python",
   "pygments_lexer": "ipython3",
   "version": "3.6.5"
  }
 },
 "nbformat": 4,
 "nbformat_minor": 2
}
