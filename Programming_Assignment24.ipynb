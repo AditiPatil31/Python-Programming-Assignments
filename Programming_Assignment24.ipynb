{
 "cells": [
  {
   "cell_type": "markdown",
   "metadata": {},
   "source": [
    "**Question1\n",
    "Create a function that takes an integer and returns a list from 1 to the given number, where:\n",
    "**\n",
    "1.\tIf the number can be divided evenly by 4, amplify it by 10 (i.e. return 10 times the number).\n",
    "2.\tIf the number cannot be divided evenly by 4, simply return the number.\n"
   ]
  },
  {
   "cell_type": "markdown",
   "metadata": {},
   "source": [
    "Examples\n",
    "<br>\n",
    "amplify(4) ➞ [1, 2, 3, 40]\n",
    "<br>\n",
    "amplify(3) ➞ [1, 2, 3]\n",
    "<br>\n",
    "amplify(25) ➞ [1, 2, 3, 40, 5, 6, 7, 80, 9, 10, 11, 120, 13, 14, 15, 160, 17, 18, 19, 200, 21, 22, 23, 240, 25]\n",
    "<br>\n",
    "Notes\n",
    "<br>\n",
    "•\tThe given integer will always be equal to or greater than 1.\n",
    "•\tInclude the number (see example above).\n",
    "•\tTo perform this problem with its intended purpose, try doing it with list comprehensions. If that's too difficult, just solve the challenge any way you can\n"
   ]
  },
  {
   "cell_type": "code",
   "execution_count": 13,
   "metadata": {},
   "outputs": [
    {
     "name": "stdout",
     "output_type": "stream",
     "text": [
      "amplify(4) --> [1, 2, 3, 40]\n",
      "amplify(3) --> [1, 2, 3]\n",
      "amplify(25) --> [1, 2, 3, 40, 5, 6, 7, 80, 9, 10, 11, 120, 13, 14, 15, 160, 17, 18, 19, 200, 21, 22, 23, 240, 25]\n"
     ]
    }
   ],
   "source": [
    "def amplify(num):\n",
    "    \n",
    "    if num>=1:\n",
    "        \n",
    "        lst=[i*10 if i%4==0 else i for i in range(1,num+1)]\n",
    "    \n",
    "        print(f'amplify({num}) --> {lst}')\n",
    "        \n",
    "    else:\n",
    "        print('Enter number greater than equal to 1')\n",
    "\n",
    "amplify(4) \n",
    "amplify(3)\n",
    "amplify(25)"
   ]
  },
  {
   "cell_type": "markdown",
   "metadata": {},
   "source": [
    "**Question2\n",
    "Create a function that takes a list of numbers and return the number that's unique\n",
    "**"
   ]
  },
  {
   "cell_type": "markdown",
   "metadata": {},
   "source": [
    "Examples\n",
    "<br>\n",
    "unique([3, 3, 3, 7, 3, 3]) ➞ 7\n",
    "<br>\n",
    "unique([0, 0, 0.77, 0, 0]) ➞ 0.77\n",
    "<br>\n",
    "unique([0, 1, 1, 1, 1, 1, 1, 1]) ➞ 0\n",
    "<br>\n",
    "Notes\n",
    "<br>\n",
    "Test cases will always have exactly one unique number while all others are the same.\n",
    "\n"
   ]
  },
  {
   "cell_type": "code",
   "execution_count": 39,
   "metadata": {},
   "outputs": [
    {
     "name": "stdout",
     "output_type": "stream",
     "text": [
      "unique([3, 3, 3, 7, 3, 3]) --> 7\n",
      "unique([0, 0, 0.77, 0, 0]) --> 0.77\n",
      "unique([0, 1, 1, 1, 1, 1, 1, 1]) --> 0\n"
     ]
    }
   ],
   "source": [
    "def unique(lst):\n",
    "    \n",
    "    for i in set(lst):\n",
    "        if lst.count(i)==1:\n",
    "            print(f'unique({lst}) --> {i}')\n",
    "            \n",
    "unique([3, 3, 3, 7, 3, 3])\n",
    "unique([0, 0, 0.77, 0, 0])\n",
    "unique([0, 1, 1, 1, 1, 1, 1, 1])"
   ]
  },
  {
   "cell_type": "markdown",
   "metadata": {},
   "source": [
    "**Question3\n",
    "Your task is to create a Circle constructor that creates a circle with a radius provided by an argument. The circles constructed must have two getters getArea() (PIr^2) and getPerimeter() (2PI*r) which give both respective areas and perimeter (circumference).\n",
    "**"
   ]
  },
  {
   "cell_type": "markdown",
   "metadata": {},
   "source": [
    "For help with this class, I have provided you with a Rectangle constructor which you can use as a base example."
   ]
  },
  {
   "cell_type": "markdown",
   "metadata": {},
   "source": [
    "Examples\n",
    "circy = Circle(11)\n",
    "circy.getArea()\n",
    "\n",
    "# Should return 380.132711084365\n",
    "\n",
    "circy = Circle(4.44)\n",
    "circy.getPerimeter()\n",
    "\n",
    "# Should return 27.897342763877365\n",
    "Notes\n",
    "Round results up to the nearest integer.\n",
    "\n"
   ]
  },
  {
   "cell_type": "code",
   "execution_count": 50,
   "metadata": {},
   "outputs": [
    {
     "name": "stdout",
     "output_type": "stream",
     "text": [
      "Area --> 380\n",
      "Perimeter --> 28\n"
     ]
    }
   ],
   "source": [
    "class Circle:\n",
    "    \n",
    "    def __init__(self,r):\n",
    "        self.r=r\n",
    "        \n",
    "    def getArea(self):\n",
    "        \n",
    "        area= round(math.pi * (self.r**2))\n",
    "        print(f'Area --> {area}')\n",
    "        \n",
    "    def getPerimeter(self):\n",
    "        \n",
    "        Perimeter= round(2 * math.pi * self.r)\n",
    "        print(f'Perimeter --> {Perimeter}')\n",
    "        \n",
    "circy=Circle(11)\n",
    "circy.getArea()\n",
    "\n",
    "circy=Circle(4.44)\n",
    "circy.getPerimeter()"
   ]
  },
  {
   "cell_type": "markdown",
   "metadata": {},
   "source": [
    "**Question4\n",
    "Create a function that takes a list of strings and return a list, sorted from shortest to longest.\n",
    "**"
   ]
  },
  {
   "cell_type": "markdown",
   "metadata": {},
   "source": [
    "Examples\n",
    "<br>\n",
    "sort_by_length([\"Google\", \"Apple\", \"Microsoft\"])\n",
    "➞ [\"Apple\", \"Google\", \"Microsoft\"]\n",
    "<br>\n",
    "\n",
    "sort_by_length([\"Leonardo\", \"Michelangelo\", \"Raphael\", \"Donatello\"])\n",
    "➞ [\"Raphael\", \"Leonardo\", \"Donatello\", \"Michelangelo\"]\n",
    "<br>\n",
    "\n",
    "sort_by_length([\"Turing\", \"Einstein\", \"Jung\"])\n",
    "➞ [\"Jung\", \"Turing\", \"Einstein\"]\n"
   ]
  },
  {
   "cell_type": "code",
   "execution_count": 53,
   "metadata": {},
   "outputs": [
    {
     "name": "stdout",
     "output_type": "stream",
     "text": [
      "sort_by_length(['Google', 'Apple', 'Microsoft']) --> ['Apple', 'Google', 'Microsoft']\n",
      "sort_by_length(['Leonardo', 'Michelangelo', 'Raphael', 'Donatello']) --> ['Raphael', 'Leonardo', 'Donatello', 'Michelangelo']\n",
      "sort_by_length(['Turing', 'Einstein', 'Jung']) --> ['Jung', 'Turing', 'Einstein']\n"
     ]
    }
   ],
   "source": [
    "def sort_by_length(lst):\n",
    "    \n",
    "    sort_lst=sorted(lst,key=len)\n",
    "    print(f'sort_by_length({lst}) --> {sort_lst}')\n",
    "    \n",
    "sort_by_length([\"Google\", \"Apple\", \"Microsoft\"])\n",
    "sort_by_length([\"Leonardo\", \"Michelangelo\", \"Raphael\", \"Donatello\"])\n",
    "sort_by_length([\"Turing\", \"Einstein\", \"Jung\"])"
   ]
  },
  {
   "cell_type": "markdown",
   "metadata": {},
   "source": [
    "**Question5\n",
    "Create a function that validates whether three given integers form a Pythagorean triplet. The sum of the squares of the two smallest integers must equal the square of the largest number to be validated.\n",
    "**"
   ]
  },
  {
   "cell_type": "markdown",
   "metadata": {},
   "source": [
    "Examples\n",
    "is_triplet(3, 4, 5) ➞ True\n",
    "# 3² + 4² = 25\n",
    "# 5² = 25\n",
    "\n",
    "is_triplet(13, 5, 12) ➞ True\n",
    "# 5² + 12² = 169\n",
    "# 13² = 169\n",
    "\n",
    "is_triplet(1, 2, 3) ➞ False\n",
    "# 1² + 2² = 5\n",
    "# 3² = 9\n",
    "Notes\n",
    "Numbers may not be given in a sorted order.\n",
    "\n"
   ]
  },
  {
   "cell_type": "code",
   "execution_count": 73,
   "metadata": {},
   "outputs": [
    {
     "name": "stdout",
     "output_type": "stream",
     "text": [
      "is_triplet(3,4,5) --> True\n",
      "3^2 + 4^2 = 25\n",
      "5^2 = 25\n",
      "is_triplet(13,5,12) --> True\n",
      "5^2 + 12^2 = 169\n",
      "13^2 = 169\n",
      "is_triplet(1,2,3) --> False\n",
      "1^2 + 2^2 = 5\n",
      "3^2 = 9\n"
     ]
    }
   ],
   "source": [
    "def is_triplet(x,y,z):\n",
    "    x,y,z=x,y,z\n",
    "    a1=min(x,y,z)\n",
    "    a2=max(x,y,z)\n",
    "    a3=(x+y+z)-(a1+a2)\n",
    "\n",
    "    if (a1**2)+(a3**2)==(a2**2):\n",
    "        print(f'is_triplet({x},{y},{z}) --> {True}')\n",
    "        print(f'{a1}^{2} + {a3}^{2} = {a2**2}')\n",
    "        print(f'{a2}^{2} = {a2**2}')\n",
    "\n",
    "    else:\n",
    "        print(f'is_triplet({x},{y},{z}) --> {False}')\n",
    "        print(f'{a1}^{2} + {a3}^{2} = {a1**2 +a3**2}')\n",
    "        print(f'{a2}^{2} = {a2**2}')\n",
    "              \n",
    "\n",
    "is_triplet(3,4,5)\n",
    "is_triplet(13, 5, 12)\n",
    "is_triplet(1, 2, 3)\n"
   ]
  },
  {
   "cell_type": "code",
   "execution_count": null,
   "metadata": {},
   "outputs": [],
   "source": []
  }
 ],
 "metadata": {
  "kernelspec": {
   "display_name": "Python 3",
   "language": "python",
   "name": "python3"
  },
  "language_info": {
   "codemirror_mode": {
    "name": "ipython",
    "version": 3
   },
   "file_extension": ".py",
   "mimetype": "text/x-python",
   "name": "python",
   "nbconvert_exporter": "python",
   "pygments_lexer": "ipython3",
   "version": "3.6.5"
  }
 },
 "nbformat": 4,
 "nbformat_minor": 2
}
