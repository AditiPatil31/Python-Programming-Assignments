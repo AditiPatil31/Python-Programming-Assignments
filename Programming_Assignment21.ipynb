{
 "cells": [
  {
   "cell_type": "markdown",
   "metadata": {},
   "source": [
    "**Question1\n",
    "Write a function that takes a list and a number as arguments. Add the number to the end of the list, then remove the first element of the list. The function should then return the updated list.\n",
    "**"
   ]
  },
  {
   "cell_type": "markdown",
   "metadata": {},
   "source": [
    "Examples\n",
    "<br>\n",
    "next_in_line([5, 6, 7, 8, 9], 1) ➞ [6, 7, 8, 9, 1]\n",
    "<br>\n",
    "\n",
    "next_in_line([7, 6, 3, 23, 17], 10) ➞ [6, 3, 23, 17, 10]\n",
    "<br>\n",
    "\n",
    "next_in_line([1, 10, 20, 42 ], 6) ➞ [10, 20, 42, 6]\n",
    "<br>\n",
    "\n",
    "next_in_line([], 6) ➞ \"No list has been selected\"\n"
   ]
  },
  {
   "cell_type": "code",
   "execution_count": 27,
   "metadata": {},
   "outputs": [
    {
     "name": "stdout",
     "output_type": "stream",
     "text": [
      "next_in_line([5, 6, 7, 8, 9], 1) --> [6, 7, 8, 9, 1]\n",
      "next_in_line([7, 6, 3, 23, 17], 10) --> [6, 3, 23, 17, 10]\n",
      "next_in_line([1, 10, 20, 42 ], 6)  --> [10, 20, 42, 6]\n",
      "next_in_line([], 6)   --> No list has been selected\n"
     ]
    }
   ],
   "source": [
    "def next_in_line(lst,n):\n",
    "    \n",
    "    if len(lst)==0:\n",
    "        return \"No list has been selected\"\n",
    "        \n",
    "    else:\n",
    "        \n",
    "        lst.append(n)\n",
    "        lst.remove(lst[0])\n",
    "        return lst\n",
    "        \n",
    "print(f'next_in_line([5, 6, 7, 8, 9], 1) --> {next_in_line([5, 6, 7, 8, 9], 1)}')\n",
    "print(f'next_in_line([7, 6, 3, 23, 17], 10) --> {next_in_line([7, 6, 3, 23, 17], 10)}')\n",
    "print(f'next_in_line([1, 10, 20, 42 ], 6)  --> {next_in_line([1, 10, 20, 42 ], 6)}')\n",
    "print(f'next_in_line([], 6)   --> {next_in_line([], 6)}')"
   ]
  },
  {
   "cell_type": "markdown",
   "metadata": {},
   "source": [
    "**Question2\n",
    "Create the function that takes a list of dictionaries and returns the sum of people's budgets.\n",
    "**"
   ]
  },
  {
   "cell_type": "markdown",
   "metadata": {},
   "source": [
    "Examples\n",
    "get_budgets([\n",
    "  { \"name\": \"John\", \"age\": 21, \"budget\": 23000 },\n",
    "  { \"name\": \"Steve\",  \"age\": 32, \"budget\": 40000 },\n",
    "  { \"name\": \"Martin\",  \"age\": 16, \"budget\": 2700 }\n",
    "]) ➞ 65700\n",
    "\n",
    "get_budgets([\n",
    "  { \"name\": \"John\",  \"age\": 21, \"budget\": 29000 },\n",
    "  { \"name\": \"Steve\",  \"age\": 32, \"budget\": 32000 },\n",
    "  { \"name\": \"Martin\",  \"age\": 16, \"budget\": 1600 }\n",
    "]) ➞ 62600\n"
   ]
  },
  {
   "cell_type": "code",
   "execution_count": 32,
   "metadata": {},
   "outputs": [
    {
     "name": "stdout",
     "output_type": "stream",
     "text": [
      "budget --> 65700\n",
      "budget --> 62600\n"
     ]
    }
   ],
   "source": [
    "def get_budgets(lst):\n",
    "    \n",
    "    budget=0\n",
    "    for dic in lst:\n",
    "        budget += dic[\"budget\"]\n",
    "        \n",
    "    print(f'budget --> {budget}')\n",
    "\n",
    "get_budgets([\n",
    "  { \"name\": \"John\", \"age\": 21, \"budget\": 23000 },\n",
    "  { \"name\": \"Steve\",  \"age\": 32, \"budget\": 40000 },\n",
    "  { \"name\": \"Martin\",  \"age\": 16, \"budget\": 2700 }\n",
    "])\n",
    "\n",
    "get_budgets([\n",
    "  { \"name\": \"John\",  \"age\": 21, \"budget\": 29000 },\n",
    "  { \"name\": \"Steve\",  \"age\": 32, \"budget\": 32000 },\n",
    "  { \"name\": \"Martin\",  \"age\": 16, \"budget\": 1600 }\n",
    "])\n",
    "\n"
   ]
  },
  {
   "cell_type": "markdown",
   "metadata": {},
   "source": [
    "**Question3\n",
    "Create a function that takes a string and returns a string with its letters in alphabetical order.\n",
    "**"
   ]
  },
  {
   "cell_type": "markdown",
   "metadata": {},
   "source": [
    "Examples\n",
    "<br>\n",
    "alphabet_soup(\"hello\") ➞ \"ehllo\"\n",
    "<br>\n",
    "alphabet_soup(\"edabit\") ➞ \"abdeit\"\n",
    "<br>\n",
    "alphabet_soup(\"hacker\") ➞ \"acehkr\"\n",
    "<br>\n",
    "alphabet_soup(\"geek\") ➞ \"eegk\"\n",
    "<br>\n",
    "alphabet_soup(\"javascript\") ➞ \"aacijprstv\"\n"
   ]
  },
  {
   "cell_type": "code",
   "execution_count": 40,
   "metadata": {},
   "outputs": [
    {
     "name": "stdout",
     "output_type": "stream",
     "text": [
      "alphabet_soup(\"hello\") --> \"ehllo\"\n",
      "alphabet_soup(\"edabit\") --> \"abdeit\"\n",
      "alphabet_soup(\"hacker\") --> \"acehkr\"\n",
      "alphabet_soup(\"geek\") --> \"eegk\"\n",
      "alphabet_soup(\"javascript\") --> \"aacijprstv\"\n"
     ]
    }
   ],
   "source": [
    "def alphabet_soup(string):\n",
    "    \n",
    "    sort_str= ''.join(sorted(string))\n",
    "    print(f'alphabet_soup(\"{string}\") --> \"{sort_str}\"')\n",
    "          \n",
    "alphabet_soup(\"hello\")\n",
    "alphabet_soup(\"edabit\")\n",
    "alphabet_soup(\"hacker\")\n",
    "alphabet_soup(\"geek\")\n",
    "alphabet_soup(\"javascript\")"
   ]
  },
  {
   "cell_type": "markdown",
   "metadata": {},
   "source": [
    "**Question4:\n",
    "Suppose that you invest $10,000 for 10 years at an interest rate of 6% compounded monthl. What will be the value of your investment at the end of the 10 year period?**"
   ]
  },
  {
   "cell_type": "markdown",
   "metadata": {},
   "source": [
    "Create a function that accepts the principal p, the term in years t, the interest rate r, and the number of compounding periods per year n. The function returns the value at the end of term rounded to the nearest cent.\n",
    "For the example above:\n",
    "compound_interest(10000, 10, 0.06, 12) ➞ 18193.97\n",
    "Note that the interest rate is given as a decimal and n=12 because with monthly compounding there are 12 periods per year. Compounding can also be done annually, quarterly, weekly, or daily.\n",
    "Examples\n",
    "compound_interest(100, 1, 0.05, 1) ➞ 105.0\n",
    "\n",
    "compound_interest(3500, 15, 0.1, 4) ➞ 15399.26\n",
    "\n",
    "compound_interest(100000, 20, 0.15, 365) ➞ 2007316.26\n"
   ]
  },
  {
   "cell_type": "code",
   "execution_count": 52,
   "metadata": {},
   "outputs": [
    {
     "name": "stdout",
     "output_type": "stream",
     "text": [
      "compound_interest(10000,10,0.06,12) --> 18193.97\n",
      "compound_interest(100,1,0.05,1) --> 105.0\n",
      "compound_interest(3500,15,0.1,4) --> 15399.26\n",
      "compound_interest(100000,20,0.15,365) --> 2007316.26\n"
     ]
    }
   ],
   "source": [
    "def compound_interest(P,time,rate,n):\n",
    "    \n",
    "    investment = P * (1+(rate/n))**(n*time)\n",
    "    investment = round(investment,2)\n",
    "    \n",
    "    print(f'compound_interest({P},{time},{rate},{n}) --> {investment}')\n",
    "    \n",
    "compound_interest(10000, 10, 0.06, 12) \n",
    "compound_interest(100, 1, 0.05, 1) \n",
    "compound_interest(3500, 15, 0.1, 4)\n",
    "compound_interest(100000, 20, 0.15, 365)"
   ]
  },
  {
   "cell_type": "markdown",
   "metadata": {},
   "source": [
    "**Question5\n",
    "Write a function that takes a list of elements and returns only the integers\n",
    "**"
   ]
  },
  {
   "cell_type": "markdown",
   "metadata": {},
   "source": [
    "Examples\n",
    "return_only_integer([9, 2, \"space\", \"car\", \"lion\", 16]) ➞ [9, 2, 16]\n",
    "\n",
    "return_only_integer([\"hello\", 81, \"basketball\", 123, \"fox\"]) ➞ [81, 123]\n",
    "\n",
    "return_only_integer([10, \"121\", 56, 20, \"car\", 3, \"lion\"]) ➞ [10, 56, 20, 3]\n",
    "\n",
    "return_only_integer([\"String\",  True,  3.3,  1]) ➞ [1]\n",
    "\n"
   ]
  },
  {
   "cell_type": "code",
   "execution_count": 57,
   "metadata": {},
   "outputs": [
    {
     "name": "stdout",
     "output_type": "stream",
     "text": [
      "return_only_integer([9, 2, 'space', 'car', 'lion', 16]) --> [9, 2, 16]\n",
      "return_only_integer(['hello', 81, 'basketball', 123, 'fox']) --> [81, 123]\n",
      "return_only_integer([10, '121', 56, 20, 'car', 3, 'lion']) --> [10, 56, 20, 3]\n",
      "return_only_integer(['String', True, 3.3, 1]) --> [1]\n"
     ]
    }
   ],
   "source": [
    "def return_only_integer(lst):\n",
    "    \n",
    "    out_lst=[x for x in lst if type(x)==int]\n",
    "    \n",
    "    print(f'return_only_integer({lst}) --> {out_lst}')\n",
    "\n",
    "return_only_integer([9, 2, \"space\", \"car\", \"lion\", 16])\n",
    "return_only_integer([\"hello\", 81, \"basketball\", 123, \"fox\"])\n",
    "return_only_integer([10, \"121\", 56, 20, \"car\", 3, \"lion\"])\n",
    "return_only_integer([\"String\",  True,  3.3,  1])\n"
   ]
  }
 ],
 "metadata": {
  "kernelspec": {
   "display_name": "Python 3",
   "language": "python",
   "name": "python3"
  },
  "language_info": {
   "codemirror_mode": {
    "name": "ipython",
    "version": 3
   },
   "file_extension": ".py",
   "mimetype": "text/x-python",
   "name": "python",
   "nbconvert_exporter": "python",
   "pygments_lexer": "ipython3",
   "version": "3.6.5"
  }
 },
 "nbformat": 4,
 "nbformat_minor": 2
}
