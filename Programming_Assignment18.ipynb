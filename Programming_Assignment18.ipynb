{
 "cells": [
  {
   "cell_type": "markdown",
   "metadata": {},
   "source": [
    "**Question 1\n",
    "Create a function that takes a list of non-negative integers and strings and return a new list without the strings.\n",
    "**"
   ]
  },
  {
   "cell_type": "markdown",
   "metadata": {},
   "source": [
    "Examples\n",
    "filter_list([1, 2, \"a\", \"b\"]) ➞ [1, 2]\n",
    "\n",
    "filter_list([1, \"a\", \"b\", 0, 15]) ➞ [1, 0, 15]\n",
    "\n",
    "filter_list([1, 2, \"aasf\", \"1\", \"123\", 123]) ➞ [1, 2, 123]"
   ]
  },
  {
   "cell_type": "code",
   "execution_count": 33,
   "metadata": {},
   "outputs": [
    {
     "name": "stdout",
     "output_type": "stream",
     "text": [
      "filter_list([1, 2, 'a', 'b']) --> [1, 2]\n",
      "filter_list([1, 'a', 'b', 0, 15]) --> [1, 0, 15]\n",
      "filter_list([1, 2, 'aasf', '1', '123', 123]) --> [1, 2, 123]\n"
     ]
    }
   ],
   "source": [
    "def filter_list(lst):\n",
    "    \n",
    "    if  all((type(i)==str or (type(i)==int and i>=0)) for i in lst):\n",
    "        \n",
    "        result=[x for x in lst if type(x)==int]\n",
    "        \n",
    "        print(f'filter_list({lst}) --> {result}')\n",
    "          \n",
    "    else:\n",
    "          print(\"Function does not accept a list of negative integers\")\n",
    "    \n",
    "filter_list([1, 2, \"a\", \"b\"])\n",
    "filter_list([1, \"a\", \"b\", 0, 15]) \n",
    "filter_list([1, 2, \"aasf\", \"1\", \"123\", 123])"
   ]
  },
  {
   "cell_type": "markdown",
   "metadata": {},
   "source": [
    "**Question 2\n",
    "The \"Reverser\" takes a string as input and returns that string in reverse order, with the opposite case.\n",
    "**"
   ]
  },
  {
   "cell_type": "markdown",
   "metadata": {},
   "source": [
    "Examples\n",
    "reverse(\"Hello World\") ➞ \"DLROw OLLEh\"\n",
    "\n",
    "reverse(\"ReVeRsE\") ➞ \"eSrEvEr\"\n",
    "\n",
    "reverse(\"Radar\") ➞ \"RADAr\"\n",
    "\n"
   ]
  },
  {
   "cell_type": "code",
   "execution_count": 45,
   "metadata": {},
   "outputs": [
    {
     "name": "stdout",
     "output_type": "stream",
     "text": [
      "reverse(\"dlroW olleH\") --> DLROw OLLEh\n",
      "reverse(\"EsReVeR\") --> eSrEvEr\n",
      "reverse(\"radaR\") --> RADAr\n"
     ]
    }
   ],
   "source": [
    "def reverse(string):\n",
    "    \n",
    "    string=string[::-1]\n",
    "    new_str=''\n",
    "    \n",
    "    for i in string:\n",
    "        if i.islower():\n",
    "            new_str += i.upper()\n",
    "        else:\n",
    "            new_str += i.lower()\n",
    "    print(f'reverse(\"{string}\") --> {new_str}')\n",
    "    \n",
    "reverse(\"Hello World\")\n",
    "reverse(\"ReVeRsE\")\n",
    "reverse(\"Radar\")"
   ]
  },
  {
   "cell_type": "code",
   "execution_count": 46,
   "metadata": {},
   "outputs": [
    {
     "name": "stdout",
     "output_type": "stream",
     "text": [
      "reverse(\"dlroW olleH\") --> DLROw OLLEh\n",
      "reverse(\"EsReVeR\") --> eSrEvEr\n",
      "reverse(\"radaR\") --> RADAr\n"
     ]
    }
   ],
   "source": [
    "def reverse(string):\n",
    "    string=string[::-1]\n",
    "    new_str= string.swapcase()\n",
    "    print(f'reverse(\"{string}\") --> {new_str}')\n",
    "    \n",
    "reverse(\"Hello World\")\n",
    "reverse(\"ReVeRsE\")\n",
    "reverse(\"Radar\")\n",
    "    \n",
    "    "
   ]
  },
  {
   "cell_type": "markdown",
   "metadata": {},
   "source": [
    "**Question 3\n",
    "You can assign variables from lists like this:\n",
    "<br>\n",
    "lst = [1, 2, 3, 4, 5, 6]\n",
    "<br>\n",
    "first = lst[0]\n",
    "<br>\n",
    "middle = lst[1:-1]\n",
    "<br>\n",
    "last = lst[-1]\n",
    "<br>\n",
    "print(first) ➞ outputs 1\n",
    "<br>\n",
    "print(middle) ➞ outputs [2, 3, 4, 5]\n",
    "<br>\n",
    "print(last) ➞ outputs 6\n",
    "**"
   ]
  },
  {
   "cell_type": "code",
   "execution_count": 48,
   "metadata": {},
   "outputs": [
    {
     "name": "stdout",
     "output_type": "stream",
     "text": [
      "first --> 1\n",
      "middle --> [2, 3, 4, 5]\n",
      "last --> 6\n"
     ]
    }
   ],
   "source": [
    "def unpack(lst):\n",
    "    \n",
    "    first=lst[0]\n",
    "    middle=lst[1:-1]\n",
    "    last=lst[-1]\n",
    "    \n",
    "    print(f'first --> {first}')\n",
    "    print(f'middle --> {middle}')\n",
    "    print(f'last --> {last}')\n",
    "unpack([1, 2, 3, 4, 5, 6])"
   ]
  },
  {
   "cell_type": "markdown",
   "metadata": {},
   "source": [
    "**Question 4\n",
    "Write a function that calculates the factorial of a number recursively.\n",
    "Examples\n",
    "<br>\n",
    "factorial(5) ➞ 120\n",
    "<br>\n",
    "factorial(3) ➞ 6\n",
    "<br>\n",
    "factorial(1) ➞ 1\n",
    "<br>\n",
    "factorial(0) ➞ 1\n",
    "**"
   ]
  },
  {
   "cell_type": "code",
   "execution_count": 53,
   "metadata": {},
   "outputs": [
    {
     "name": "stdout",
     "output_type": "stream",
     "text": [
      "factorial(5) --> 120\n",
      "factorial(3) --> 6\n",
      "factorial(1) --> 1\n",
      "factorial(0) --> 1\n"
     ]
    }
   ],
   "source": [
    "def factorial(n):\n",
    "    if n==0 or n==1:\n",
    "        return 1\n",
    "    else:\n",
    "        return n*factorial(n-1)\n",
    "print(f'factorial({5}) --> {factorial(5)}')\n",
    "print(f'factorial({3}) --> {factorial(3)}')\n",
    "print(f'factorial({1}) --> {factorial(1)}')\n",
    "print(f'factorial({0}) --> {factorial(0)}')"
   ]
  },
  {
   "cell_type": "markdown",
   "metadata": {},
   "source": [
    "**Question 5\n",
    "Write a function that moves all elements of one type to the end of the list.**\n"
   ]
  },
  {
   "cell_type": "markdown",
   "metadata": {},
   "source": [
    "Examples\n",
    "<br>\n",
    "move_to_end([1, 3, 2, 4, 4, 1], 1) ➞ [3, 2, 4, 4, 1, 1]\n",
    "<br>\n",
    "# Move all the 1s to the end of the array.\n",
    "<br>\n",
    "move_to_end([7, 8, 9, 1, 2, 3, 4], 9) ➞ [7, 8, 1, 2, 3, 4, 9]\n",
    "<br>\n",
    "move_to_end([\"a\", \"a\", \"a\", \"b\"], \"a\") ➞ [\"b\", \"a\", \"a\", \"a\"]\n",
    "\n"
   ]
  },
  {
   "cell_type": "code",
   "execution_count": 13,
   "metadata": {},
   "outputs": [
    {
     "name": "stdout",
     "output_type": "stream",
     "text": [
      "move_to_end([1, 3, 2, 4, 4, 1], 1) --> [3, 2, 4, 4, 1, 1]\n",
      "move_to_end([7, 8, 9, 1, 2, 3, 4], 9) --> [7, 8, 1, 2, 3, 4, 9]\n",
      "move_to_end([\"a\", \"a\", \"a\", \"b\"], \"a\") --> ['b', 'a', 'a', 'a']\n"
     ]
    }
   ],
   "source": [
    "def move_to_end(lst,n):\n",
    "\n",
    "    cnt=lst.count(n)\n",
    "    for i in range(cnt):\n",
    "        lst.append(lst.pop((lst.index(n))))\n",
    "        \n",
    "    return lst\n",
    "          \n",
    "print(f'move_to_end([1, 3, 2, 4, 4, 1], 1) --> {move_to_end([1, 3, 2, 4, 4, 1], 1)}')\n",
    "print(f'move_to_end([7, 8, 9, 1, 2, 3, 4], 9) --> {move_to_end([7, 8, 9, 1, 2, 3, 4], 9)}')\n",
    "print(f'move_to_end([\"a\", \"a\", \"a\", \"b\"], \"a\") --> {move_to_end([\"a\", \"a\", \"a\", \"b\"], \"a\")}')\n",
    "      "
   ]
  }
 ],
 "metadata": {
  "kernelspec": {
   "display_name": "Python 3",
   "language": "python",
   "name": "python3"
  },
  "language_info": {
   "codemirror_mode": {
    "name": "ipython",
    "version": 3
   },
   "file_extension": ".py",
   "mimetype": "text/x-python",
   "name": "python",
   "nbconvert_exporter": "python",
   "pygments_lexer": "ipython3",
   "version": "3.6.5"
  }
 },
 "nbformat": 4,
 "nbformat_minor": 2
}
