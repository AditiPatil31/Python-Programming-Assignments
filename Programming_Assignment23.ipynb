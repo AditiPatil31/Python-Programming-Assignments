{
 "cells": [
  {
   "cell_type": "markdown",
   "metadata": {},
   "source": [
    "**Question 1\n",
    "Create a function that takes a number as an argument and returns True or False depending on whether the number is symmetrical or not. A number is symmetrical when it is the same as its reverse.\n",
    "**"
   ]
  },
  {
   "cell_type": "markdown",
   "metadata": {},
   "source": [
    "Examples\n",
    "<br>\n",
    "is_symmetrical(7227) ➞ True\n",
    "<br>\n",
    "is_symmetrical(12567) ➞ False\n",
    "<br>\n",
    "is_symmetrical(44444444) ➞ True\n",
    "<br>\n",
    "is_symmetrical(9939) ➞ False\n",
    "<br>\n",
    "is_symmetrical(1112111) ➞ True\n",
    "\n"
   ]
  },
  {
   "cell_type": "code",
   "execution_count": 4,
   "metadata": {},
   "outputs": [
    {
     "name": "stdout",
     "output_type": "stream",
     "text": [
      "is_symmetrical(7227) --> True\n",
      "is_symmetrical(12567) --> False\n",
      "is_symmetrical(44444444) --> True\n",
      "is_symmetrical(9939) --> False\n",
      "is_symmetrical(1112111) --> True\n"
     ]
    }
   ],
   "source": [
    "def is_symmetrical(num):\n",
    "    temp=num\n",
    "    rev_num=0\n",
    "    while temp!=0:\n",
    "        digit=temp%10\n",
    "        rev_num=rev_num*10+digit\n",
    "        temp=temp//10\n",
    "    if num==rev_num:\n",
    "        print(f'is_symmetrical({num}) --> {True}')\n",
    "        \n",
    "    else:\n",
    "        print(f'is_symmetrical({num}) --> {False}')\n",
    "    \n",
    "is_symmetrical(7227)\n",
    "is_symmetrical(12567)\n",
    "is_symmetrical(44444444)\n",
    "is_symmetrical(9939)\n",
    "is_symmetrical(1112111)"
   ]
  },
  {
   "cell_type": "markdown",
   "metadata": {},
   "source": [
    "**Question 2\n",
    "Given a string of numbers separated by a comma and space, return the product of the numbers\n",
    "**"
   ]
  },
  {
   "cell_type": "markdown",
   "metadata": {},
   "source": [
    "Examples\n",
    "<br>\n",
    "multiply_nums(\"2, 3\") ➞ 6\n",
    "<br>\n",
    "multiply_nums(\"1, 2, 3, 4\") ➞ 24\n",
    "<br>\n",
    "multiply_nums(\"54, 75, 453, 0\") ➞ 0\n",
    "<br>\n",
    "multiply_nums(\"10, -2\") ➞ -20\n"
   ]
  },
  {
   "cell_type": "code",
   "execution_count": 54,
   "metadata": {},
   "outputs": [
    {
     "name": "stdout",
     "output_type": "stream",
     "text": [
      "multiply_nums(\"2, 3\") --> 6\n",
      "multiply_nums(\"1, 2, 3, 4\") --> 24\n",
      "multiply_nums(\"54, 75, 453, 0\") --> 0\n",
      "multiply_nums(\"10, -2\") --> -20\n"
     ]
    }
   ],
   "source": [
    "def multiply_nums(string):\n",
    "    lst =(string.replace(' ','')).split(',')\n",
    "    prod=1\n",
    "    for num in lst:\n",
    "        prod *= int(num)\n",
    "    print(f'multiply_nums(\"{string}\") --> {prod}')\n",
    "    \n",
    "    \n",
    "multiply_nums(\"2, 3\")\n",
    "multiply_nums(\"1, 2, 3, 4\")\n",
    "multiply_nums(\"54, 75, 453, 0\")\n",
    "multiply_nums(\"10, -2\")"
   ]
  },
  {
   "cell_type": "markdown",
   "metadata": {},
   "source": [
    "**Question 3\n",
    "Create a function that squares every digit of a number\n",
    "**"
   ]
  },
  {
   "cell_type": "markdown",
   "metadata": {},
   "source": [
    "Examples\n",
    "<br>\n",
    "square_digits(9119) ➞ 811181\n",
    "<br>\n",
    "square_digits(2483) ➞ 416649\n",
    "<br>\n",
    "square_digits(3212) ➞ 9414\n",
    "<br>\n",
    "Notes\n",
    "<br>\n",
    "The function receives an integer and must return an integer\n"
   ]
  },
  {
   "cell_type": "code",
   "execution_count": 12,
   "metadata": {},
   "outputs": [
    {
     "name": "stdout",
     "output_type": "stream",
     "text": [
      "square_digits(9119) --> 811181\n",
      "square_digits(2483) --> 416649\n",
      "square_digits(3212) --> 9414\n"
     ]
    }
   ],
   "source": [
    "def square_digits(num):\n",
    "    \n",
    "    if type(num)==int:\n",
    "        \n",
    "        lst=list(str(num))\n",
    "        square=''\n",
    "        for digit in lst:\n",
    "            square += str(int(digit)**2)\n",
    "        print(f'square_digits({num}) --> {square}')\n",
    "        \n",
    "    else:\n",
    "        print(f'Function accepts only integer')\n",
    "    \n",
    "square_digits(9119)\n",
    "square_digits(2483)\n",
    "square_digits(3212)"
   ]
  },
  {
   "cell_type": "markdown",
   "metadata": {},
   "source": [
    "**Question 4\n",
    "Create a function that sorts a list and removes all duplicate items from it.\n",
    "**"
   ]
  },
  {
   "cell_type": "markdown",
   "metadata": {},
   "source": [
    "Examples\n",
    "<br>\n",
    "setify([1, 3, 3, 5, 5]) ➞ [1, 3, 5]\n",
    "<br>\n",
    "setify([4, 4, 4, 4]) ➞ [4]\n",
    "<br>\n",
    "setify([5, 7, 8, 9, 10, 15]) ➞ [5, 7, 8, 9, 10, 15]\n",
    "<br>\n",
    "setify([3, 3, 3, 2, 1]) ➞ [1, 2, 3]\n"
   ]
  },
  {
   "cell_type": "code",
   "execution_count": 34,
   "metadata": {},
   "outputs": [
    {
     "name": "stdout",
     "output_type": "stream",
     "text": [
      "setify([1, 3, 3, 5, 5]) --> [1, 3, 5]\n",
      "setify([4, 4, 4, 4]) --> [4]\n",
      "setify([5, 7, 8, 9, 10, 15]) --> [5, 7, 8, 9, 10, 15]\n",
      "setify([3, 3, 3, 2, 1]) --> [1, 2, 3]\n"
     ]
    }
   ],
   "source": [
    "def setify(lst):\n",
    "    result=sorted(set(lst))\n",
    "    print(f'setify({lst}) --> {result}')\n",
    "    \n",
    "setify([1, 3, 3, 5, 5])\n",
    "setify([4, 4, 4, 4])\n",
    "setify([5, 7, 8, 9, 10, 15])\n",
    "setify([3, 3, 3, 2, 1])"
   ]
  },
  {
   "cell_type": "markdown",
   "metadata": {},
   "source": [
    "**Question 5\n",
    "Create a function that returns the mean of all digits.\n",
    "**"
   ]
  },
  {
   "cell_type": "markdown",
   "metadata": {},
   "source": [
    "Examples\n",
    "<br>\n",
    "mean(42) ➞ 3\n",
    "<br>\n",
    "mean(12345) ➞ 3\n",
    "<br>\n",
    "mean(666) ➞ 6\n"
   ]
  },
  {
   "cell_type": "markdown",
   "metadata": {},
   "source": [
    "Notes\n",
    "•\tThe mean of all digits is the sum of digits / how many digits there are (e.g. mean of digits in 512 is (5+1+2)/3(number of digits) = 8/3=2).\n",
    "•\tThe mean will always be an integer."
   ]
  },
  {
   "cell_type": "code",
   "execution_count": 26,
   "metadata": {},
   "outputs": [
    {
     "name": "stdout",
     "output_type": "stream",
     "text": [
      "mean(42) --> 3\n",
      "mean(12345) --> 3\n",
      "mean(666) --> 6\n"
     ]
    }
   ],
   "source": [
    "def mean(num):\n",
    "    lst=list(str(num))\n",
    "    \n",
    "    digit_sum=sum([int(i) for i in lst])\n",
    "    \n",
    "    mean1=int(digit_sum/len(lst))\n",
    "    print(f'mean({num}) --> {mean1}')\n",
    "    \n",
    "mean(42)\n",
    "mean(12345)\n",
    "mean(666)"
   ]
  }
 ],
 "metadata": {
  "kernelspec": {
   "display_name": "Python 3",
   "language": "python",
   "name": "python3"
  },
  "language_info": {
   "codemirror_mode": {
    "name": "ipython",
    "version": 3
   },
   "file_extension": ".py",
   "mimetype": "text/x-python",
   "name": "python",
   "nbconvert_exporter": "python",
   "pygments_lexer": "ipython3",
   "version": "3.6.5"
  }
 },
 "nbformat": 4,
 "nbformat_minor": 2
}
