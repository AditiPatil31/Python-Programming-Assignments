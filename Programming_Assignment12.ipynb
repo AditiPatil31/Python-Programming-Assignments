{
 "cells": [
  {
   "cell_type": "markdown",
   "metadata": {},
   "source": [
    "**1.\tWrite a Python program to Extract Unique values dictionary values?**"
   ]
  },
  {
   "cell_type": "code",
   "execution_count": 18,
   "metadata": {},
   "outputs": [
    {
     "name": "stdout",
     "output_type": "stream",
     "text": [
      "Enter dictionary {1:'cherry',2:'strawberry',3:'banana',4:'plum',5:'banana',6:'cherry'}\n",
      "Unique values from given dictionary ['cherry', 'strawberry', 'plum', 'banana']\n"
     ]
    }
   ],
   "source": [
    "def uniquevalue():\n",
    "    \n",
    "    d=eval(input(\"Enter dictionary \"))\n",
    "    unique=list(set(d.values()))\n",
    "    \n",
    "    print(f'Unique values from given dictionary {unique}')\n",
    "    \n",
    "uniquevalue()"
   ]
  },
  {
   "cell_type": "markdown",
   "metadata": {},
   "source": [
    "**2.\tWrite a Python program to find the sum of all items in a dictionary?**"
   ]
  },
  {
   "cell_type": "code",
   "execution_count": 1,
   "metadata": {},
   "outputs": [
    {
     "name": "stdout",
     "output_type": "stream",
     "text": [
      "Enter dictionary {'a':10,'b':27,'c':35,'d':55,'e':70}\n",
      "Sum of values in dictionary is 197\n"
     ]
    }
   ],
   "source": [
    "def sumValue():\n",
    "    dict=eval(input(\"Enter dictionary \"))\n",
    "    s=sum(list(dict.values()))\n",
    "    print(f'Sum of values in dictionary is {s}')\n",
    "          \n",
    "sumValue()\n",
    "    "
   ]
  },
  {
   "cell_type": "markdown",
   "metadata": {},
   "source": [
    "**3.\tWrite a Python program to Merging two Dictionaries?**"
   ]
  },
  {
   "cell_type": "code",
   "execution_count": 4,
   "metadata": {},
   "outputs": [
    {
     "name": "stdout",
     "output_type": "stream",
     "text": [
      "Enter a dictionary {'x': 10, 'y': 8}\n",
      "Enter a dictionary {'a': 6, 'b': 4}\n",
      "After merging {'x': 10, 'y': 8, 'a': 6, 'b': 4}\n"
     ]
    }
   ],
   "source": [
    "def merge():\n",
    "    \n",
    "    dict1=eval(input(\"Enter a dictionary \"))\n",
    "    dict2=eval(input(\"Enter a dictionary \"))\n",
    "    \n",
    "    dict1.update(dict2)\n",
    "    print(f'After merging {dict1}')\n",
    "    \n",
    "merge()\n",
    "    \n",
    "    "
   ]
  },
  {
   "cell_type": "markdown",
   "metadata": {},
   "source": [
    "**4.\tWrite a Python program to convert key-values list to flat dictionary?**"
   ]
  },
  {
   "cell_type": "code",
   "execution_count": 14,
   "metadata": {},
   "outputs": [
    {
     "name": "stdout",
     "output_type": "stream",
     "text": [
      "Enter a dictionary{'language' : ['python', 'java', 'c/c++', 'javascript'], 'year' : [1991, 1995, 1980, 1995]}\n",
      "flat dictionary is \n",
      "{'python': 1991, 'java': 1995, 'c/c++': 1980, 'javascript': 1995}\n"
     ]
    }
   ],
   "source": [
    "def flatdict():\n",
    "    d=eval(input(\"Enter a dictionary\"))\n",
    "    kv=list(d.keys())\n",
    "    \n",
    "    flat=dict(zip(d[kv[0]],d[kv[1]]))\n",
    "    \n",
    "    print(f'flat dictionary is ')\n",
    "    print(flat)\n",
    "          \n",
    "flatdict()"
   ]
  },
  {
   "cell_type": "markdown",
   "metadata": {},
   "source": [
    "**5.\tWrite a Python program to insertion at the beginning in OrderedDict?**"
   ]
  },
  {
   "cell_type": "code",
   "execution_count": 19,
   "metadata": {},
   "outputs": [
    {
     "name": "stdout",
     "output_type": "stream",
     "text": [
      "Enter a dictionary {\"model\": \"Mustang\",   \"year\": 1964}\n",
      "Enter a dictionary {\"brand\": \"Ford\"}\n",
      "Dictionary after insertion \n",
      "OrderedDict([('brand', 'Ford'), ('model', 'Mustang'), ('year', 1964)])\n"
     ]
    }
   ],
   "source": [
    "from collections import OrderedDict\n",
    "\n",
    "def insertion():\n",
    "    \n",
    "    dict1=eval(input(\"Enter a dictionary \"))\n",
    "    dict2=eval(input(\"Enter a dictionary \"))\n",
    "    \n",
    "    key=list(dict2.keys())[0]\n",
    "    dict1=OrderedDict(dict1)\n",
    "    \n",
    "    dict1.update(dict2)\n",
    "    \n",
    "    dict1.move_to_end(key,last=False)\n",
    "    \n",
    "    print(\"Dictionary after insertion \")\n",
    "    print(dict1)\n",
    "    \n",
    "insertion()\n",
    "    "
   ]
  },
  {
   "cell_type": "markdown",
   "metadata": {},
   "source": [
    "**6.\tWrite a Python program to check order of character in string using OrderedDict()?**"
   ]
  },
  {
   "cell_type": "code",
   "execution_count": 30,
   "metadata": {},
   "outputs": [
    {
     "name": "stdout",
     "output_type": "stream",
     "text": [
      "Enter a string welcome\n",
      "Enter a pattern wlc\n"
     ]
    },
    {
     "data": {
      "text/plain": [
       "True"
      ]
     },
     "execution_count": 30,
     "metadata": {},
     "output_type": "execute_result"
    }
   ],
   "source": [
    "def orderofchar():\n",
    "    \n",
    "    str=input(\"Enter a string \")\n",
    "    d=OrderedDict.fromkeys(str)\n",
    "    \n",
    "    pattern=input(\"Enter a pattern \")\n",
    "    ptr=0\n",
    "    \n",
    "    for key,value in d.items():\n",
    "        if(key==pattern[ptr]):\n",
    "            ptr=ptr+1\n",
    "        if (ptr==len(pattern)):\n",
    "            return True\n",
    "    return False\n",
    "\n",
    "orderofchar()"
   ]
  },
  {
   "cell_type": "markdown",
   "metadata": {},
   "source": [
    "**7.\tWrite a Python program to sort Python Dictionaries by Key or Value?**"
   ]
  },
  {
   "cell_type": "code",
   "execution_count": 23,
   "metadata": {},
   "outputs": [
    {
     "name": "stdout",
     "output_type": "stream",
     "text": [
      "Enter a dictionary {'cherry':10,'banana':20,'plum':40,'apple':30}\n",
      "Enter a sort type key\n",
      "Sorting by key\n",
      "{'apple': 30, 'banana': 20, 'cherry': 10, 'plum': 40}\n",
      "Enter a dictionary {'strawberry':30,'mango':20,'grapes':50,'watermelon':40}\n",
      "Enter a sort type value\n",
      "Sorting by Values\n",
      "{'mango': 20, 'strawberry': 30, 'watermelon': 40, 'grapes': 50}\n"
     ]
    }
   ],
   "source": [
    "def sort_dict():\n",
    "    d=eval(input(\"Enter a dictionary \"))\n",
    "    type=input(\"Enter a sort type \")\n",
    "    \n",
    "    if type == 'key':\n",
    "        print(\"Sorting by key\")\n",
    "        print(dict(sorted(d.items(),key=lambda x:x[0],reverse=False)))\n",
    "        \n",
    "    else:\n",
    "        print(\"Sorting by Values\")\n",
    "        print(dict(sorted(d.items(),key=lambda x:x[1],reverse=False)))\n",
    "        \n",
    "sort_dict()\n",
    "sort_dict()"
   ]
  }
 ],
 "metadata": {
  "kernelspec": {
   "display_name": "Python 3",
   "language": "python",
   "name": "python3"
  },
  "language_info": {
   "codemirror_mode": {
    "name": "ipython",
    "version": 3
   },
   "file_extension": ".py",
   "mimetype": "text/x-python",
   "name": "python",
   "nbconvert_exporter": "python",
   "pygments_lexer": "ipython3",
   "version": "3.6.5"
  }
 },
 "nbformat": 4,
 "nbformat_minor": 2
}
