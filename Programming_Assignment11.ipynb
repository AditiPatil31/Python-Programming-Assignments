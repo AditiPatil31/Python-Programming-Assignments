{
 "cells": [
  {
   "cell_type": "markdown",
   "metadata": {},
   "source": [
    "**1.\tWrite a Python program to find words which are greater than given length k?**"
   ]
  },
  {
   "cell_type": "code",
   "execution_count": 15,
   "metadata": {},
   "outputs": [
    {
     "name": "stdout",
     "output_type": "stream",
     "text": [
      "Enter a string welcome to full stack data science course\n",
      "Enter length k 4\n",
      "Words greater than length 4 are \n",
      "welcome stack science course\n"
     ]
    }
   ],
   "source": [
    "def checkLength():\n",
    "    \n",
    "    str=input(\"Enter a string \")\n",
    "    k=int(input(\"Enter length k \"))\n",
    "    new_str=[]\n",
    "    \n",
    "    for w in str.split(\" \"):\n",
    "        \n",
    "        if (len(w)>k):\n",
    "            \n",
    "            new_str.append(w)\n",
    "            \n",
    "    word = \" \".join(new_str)\n",
    "    \n",
    "    print(f'Words greater than length {k} are ')\n",
    "    print(word)\n",
    "    \n",
    "checkLength()  "
   ]
  },
  {
   "cell_type": "markdown",
   "metadata": {},
   "source": [
    "**2.\tWrite a Python program for removing i-th character from a string?**"
   ]
  },
  {
   "cell_type": "code",
   "execution_count": 17,
   "metadata": {},
   "outputs": [
    {
     "name": "stdout",
     "output_type": "stream",
     "text": [
      "Enter a string bootcamp\n",
      "Enter i th character 2\n",
      "botcamp\n"
     ]
    }
   ],
   "source": [
    "def Removecharacter():\n",
    "    \n",
    "    str=input(\"Enter a string \")\n",
    "    k=int(input(\"Enter i th character \"))\n",
    "    new_str=''\n",
    "    for w in range(len(str)):\n",
    "        if w!=k:\n",
    "            new_str=new_str+str[w]\n",
    "            \n",
    "    print(new_str)\n",
    "    \n",
    "Removecharacter()\n",
    "            \n",
    "            "
   ]
  },
  {
   "cell_type": "markdown",
   "metadata": {},
   "source": [
    "**3.\tWrite a Python program to split and join a string?**"
   ]
  },
  {
   "cell_type": "code",
   "execution_count": 23,
   "metadata": {},
   "outputs": [
    {
     "name": "stdout",
     "output_type": "stream",
     "text": [
      "Enter a string Fast track interview preparation\n",
      "Split string : ['Fast', 'track', 'interview', 'preparation']\n",
      "Join string :Fast track interview preparation\n"
     ]
    }
   ],
   "source": [
    "def splitjoinStr():\n",
    "    \n",
    "    str=input(\"Enter a string \")\n",
    "    \n",
    "    print(f'Split string : {str.split()}')\n",
    "    \n",
    "    print(f'Join string :{\" \".join(str.split())}')\n",
    "\n",
    "splitjoinStr()\n",
    "    "
   ]
  },
  {
   "cell_type": "markdown",
   "metadata": {},
   "source": [
    "**4.\tWrite a Python to check if a given string is binary string or not?**"
   ]
  },
  {
   "cell_type": "code",
   "execution_count": 4,
   "metadata": {},
   "outputs": [
    {
     "name": "stdout",
     "output_type": "stream",
     "text": [
      "Enter a string 0101101\n",
      "0101101 is a binary string\n",
      "Enter a string 101102\n",
      "101102 is not a binary string\n"
     ]
    }
   ],
   "source": [
    "def IsBinary():\n",
    "    str=input(\"Enter a string \")\n",
    "    count=0\n",
    "    \n",
    "    for ele in str:\n",
    "        if ele in ['0','1']:\n",
    "            count=1\n",
    "            continue\n",
    "        else:\n",
    "            count=0\n",
    "            break\n",
    "            \n",
    "    if count == 1:\n",
    "        \n",
    "        print(f'{str} is a binary string')\n",
    "              \n",
    "    else:\n",
    "        print(f'{str} is not a binary string')\n",
    "        \n",
    "        \n",
    "IsBinary()\n",
    "IsBinary()"
   ]
  },
  {
   "cell_type": "markdown",
   "metadata": {},
   "source": [
    "**5.\tWrite a Python program to find uncommon words from two Strings?**"
   ]
  },
  {
   "cell_type": "code",
   "execution_count": 20,
   "metadata": {},
   "outputs": [
    {
     "name": "stdout",
     "output_type": "stream",
     "text": [
      "Enter a string Apple cherry plum\n",
      "Enter a string grapes Apple banana\n",
      "Uncommon words :  cherry plum grapes banana\n"
     ]
    }
   ],
   "source": [
    "def uncommon():\n",
    "    str1=input(\"Enter a string \")\n",
    "    str2=input(\"Enter a string \")\n",
    "    \n",
    "    list1=str1.split()\n",
    "    list2=str2.split()\n",
    "    \n",
    "    uncmn=[]\n",
    "    \n",
    "    for i in list1:\n",
    "        if i not in list2:\n",
    "            uncmn.append(i)\n",
    "            \n",
    "    for j in list2:\n",
    "        if j not in list1:\n",
    "            uncmn.append(j)\n",
    "            \n",
    "    w=\" \".join(uncmn)\n",
    "    \n",
    "    print(f'Uncommon words :  {w}')\n",
    "    \n",
    "uncommon()\n",
    "            \n",
    "    \n"
   ]
  },
  {
   "cell_type": "markdown",
   "metadata": {},
   "source": [
    "**6.\tWrite a Python to find all duplicate characters in string?**"
   ]
  },
  {
   "cell_type": "code",
   "execution_count": 29,
   "metadata": {},
   "outputs": [
    {
     "name": "stdout",
     "output_type": "stream",
     "text": [
      "Enter a string textbook\n",
      "Duplicate characters in given string are ['t', 'o']\n"
     ]
    }
   ],
   "source": [
    "def duplicatechar():\n",
    "    str = input(\"Enter a string \")\n",
    "    dup=[]\n",
    "    for char in str:\n",
    "        \n",
    "        if char not in dup:\n",
    "            \n",
    "            count=str.count(char)\n",
    "            \n",
    "            if count>1:\n",
    "                dup.append(char)\n",
    "            \n",
    "    print(f'Duplicate characters in given string are {dup}')\n",
    "    \n",
    "duplicatechar()\n",
    "            "
   ]
  },
  {
   "cell_type": "markdown",
   "metadata": {},
   "source": [
    "**7.\tWrite a Python Program to check if a string contains any special character?**"
   ]
  },
  {
   "cell_type": "code",
   "execution_count": 33,
   "metadata": {},
   "outputs": [
    {
     "name": "stdout",
     "output_type": "stream",
     "text": [
      "Enter a string @ineuron#AI%$\n",
      "@ineuron#AI%$ contains 4 special characters\n",
      "['@', '#', '%', '$']\n"
     ]
    }
   ],
   "source": [
    "def specialchar():\n",
    "    \n",
    "    str = input(\"Enter a string \")\n",
    "    \n",
    "    s='[@_!#$%^&*()<>?/\\|}{~:]'\n",
    "    char=[]\n",
    "    count=0\n",
    "    \n",
    "    for c in str:\n",
    "        if c in s:\n",
    "            char.append(c)\n",
    "            count=count+1\n",
    "        \n",
    "    print(f'{str} contains {count} special characters')\n",
    "    print(char)\n",
    "    \n",
    "specialchar()\n",
    "            "
   ]
  }
 ],
 "metadata": {
  "kernelspec": {
   "display_name": "Python 3",
   "language": "python",
   "name": "python3"
  },
  "language_info": {
   "codemirror_mode": {
    "name": "ipython",
    "version": 3
   },
   "file_extension": ".py",
   "mimetype": "text/x-python",
   "name": "python",
   "nbconvert_exporter": "python",
   "pygments_lexer": "ipython3",
   "version": "3.6.5"
  }
 },
 "nbformat": 4,
 "nbformat_minor": 2
}
