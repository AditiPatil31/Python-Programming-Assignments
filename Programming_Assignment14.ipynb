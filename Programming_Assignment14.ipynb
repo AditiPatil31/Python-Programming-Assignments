{
 "cells": [
  {
   "cell_type": "markdown",
   "metadata": {},
   "source": [
    "**Question 1:\n",
    "Define a class with a generator which can iterate the numbers, which are divisible by 7, between a given range 0 and n.\n",
    "**"
   ]
  },
  {
   "cell_type": "code",
   "execution_count": 8,
   "metadata": {},
   "outputs": [
    {
     "name": "stdout",
     "output_type": "stream",
     "text": [
      "0 7 14 21 28 35 42 49 56 63 70 77 84 91 98 105 112 119 126 133 140 147 154 161 168 175 182 189 196 "
     ]
    }
   ],
   "source": [
    "class div_generator():\n",
    "    \n",
    "    def __init__(self,num):\n",
    "        self.num=num\n",
    "        \n",
    "    def get_numbers(self):\n",
    "        \n",
    "        for n in range(0,self.num+1):\n",
    "            if n%7 == 0:\n",
    "                yield n\n",
    "            \n",
    "             \n",
    "                    \n",
    "                                            \n",
    "result=div_generator(200)\n",
    "for ele in result.get_numbers():\n",
    "    print(ele,end=\" \")    "
   ]
  },
  {
   "cell_type": "markdown",
   "metadata": {},
   "source": [
    "**Question 2:\n",
    "Write a program to compute the frequency of the words from the input. The output should output after sorting the key alphanumerically. \n",
    "**"
   ]
  },
  {
   "cell_type": "markdown",
   "metadata": {},
   "source": [
    "Suppose the following input is supplied to the program:\n",
    "\n",
    "New to Python or choosing between Python 2 and Python 3? Read Python 2 or Python 3.\n",
    "\n",
    "Then, the output should be:\n",
    "\n",
    "2:2\n",
    "\n",
    "3.:1\n",
    "\n",
    "3?:1\n",
    "\n",
    "New:1\n",
    "\n",
    "Python:5\n",
    "\n",
    "Read:1\n",
    "\n",
    "and:1\n",
    "\n",
    "between:1\n",
    "\n",
    "choosing:1\n",
    "\n",
    "or:2\n",
    "\n",
    "to:1\n",
    "\n"
   ]
  },
  {
   "cell_type": "code",
   "execution_count": 27,
   "metadata": {},
   "outputs": [
    {
     "name": "stdout",
     "output_type": "stream",
     "text": [
      "Enter string : New to Python or choosing between Python 2 and Python 3? Read Python 2 or Python 3\n",
      "2:2\n",
      "3:1\n",
      "3?:1\n",
      "New:1\n",
      "Python:5\n",
      "Read:1\n",
      "and:1\n",
      "between:1\n",
      "choosing:1\n",
      "or:2\n",
      "to:1\n"
     ]
    }
   ],
   "source": [
    "def computefreq():\n",
    "    string=input(\"Enter string : \")\n",
    "    \n",
    "    str_l=sorted(string.split())\n",
    "    \n",
    "    frequency={x:str_l.count(x) for x in str_l}\n",
    "    \n",
    "    for key,value in frequency.items():\n",
    "        print(f'{key}:{value}')\n",
    "        \n",
    "computefreq()    "
   ]
  },
  {
   "cell_type": "markdown",
   "metadata": {},
   "source": [
    "**Question 3:\n",
    "Define a class Person and its two child classes: Male and Female. All classes have a method \"getGender\" which can print \"Male\" for Male class and \"Female\" for Female class.\n",
    "**"
   ]
  },
  {
   "cell_type": "code",
   "execution_count": 31,
   "metadata": {},
   "outputs": [
    {
     "name": "stdout",
     "output_type": "stream",
     "text": [
      "Male\n",
      "Female\n"
     ]
    }
   ],
   "source": [
    "class Person():\n",
    "    def getGender():\n",
    "        pass\n",
    "    \n",
    "class Male(Person):\n",
    "    def getGender():\n",
    "        print(\"Male\")\n",
    "        \n",
    "class Female():\n",
    "    def getGender():\n",
    "        print(\"Female\")\n",
    "        \n",
    "Male.getGender()\n",
    "Female.getGender()"
   ]
  },
  {
   "cell_type": "markdown",
   "metadata": {},
   "source": [
    "**Question 4:\n",
    "Please write a program to generate all sentences where subject is in [\"I\", \"You\"] and verb is in [\"Play\", \"Love\"] and the object is in [\"Hockey\",\"Football\"].\n",
    "**"
   ]
  },
  {
   "cell_type": "code",
   "execution_count": 46,
   "metadata": {},
   "outputs": [
    {
     "name": "stdout",
     "output_type": "stream",
     "text": [
      "I Play Hockey\n",
      "I Play Football\n",
      "I Love Hockey\n",
      "I Love Football\n",
      "You Play Hockey\n",
      "You Play Football\n",
      "You Love Hockey\n",
      "You Love Football\n"
     ]
    }
   ],
   "source": [
    "def generate_sentence():\n",
    "    \n",
    "    sub=[\"I\", \"You\"]\n",
    "    verb= [\"Play\", \"Love\"]\n",
    "    object=[\"Hockey\",\"Football\"]\n",
    "\n",
    "    for s in sub:\n",
    "        for v in verb:\n",
    "            for o in object:\n",
    "                print(\" \".join([s,v,o]))\n",
    "                \n",
    "generate_sentence()"
   ]
  },
  {
   "cell_type": "markdown",
   "metadata": {},
   "source": [
    "**Question 5:\n",
    "Please write a program to compress and decompress the string \"hello world!hello world!hello world!hello world!\".\n",
    "**"
   ]
  },
  {
   "cell_type": "code",
   "execution_count": 1,
   "metadata": {},
   "outputs": [
    {
     "name": "stdout",
     "output_type": "stream",
     "text": [
      "Enter a string : hello world!hello world!hello world!hello world!\n",
      "hel2o world!hel2o world!hel2o world!hel2o world!\n"
     ]
    }
   ],
   "source": [
    "def compress():\n",
    "    string=input(\"Enter a string : \")\n",
    "    len_str=len(string)\n",
    "    \n",
    "    index=0\n",
    "    new_str=\"\"\n",
    "    \n",
    "    while index!=(len_str):\n",
    "        count=1\n",
    "        while (index < (len_str-1)) and (string[index]==string[index+1]):\n",
    "            count = count+1\n",
    "            index = index+1\n",
    "            \n",
    "        if count==1:\n",
    "            new_str = new_str + str(string[index])\n",
    "                \n",
    "        else:\n",
    "            new_str = new_str + str(string[index]) + str(count)\n",
    "                \n",
    "        index=index+1\n",
    "        \n",
    "    return new_str\n",
    "            \n",
    "            \n",
    "compressed_string=compress()\n",
    "print(compressed_string)"
   ]
  },
  {
   "cell_type": "code",
   "execution_count": 3,
   "metadata": {},
   "outputs": [
    {
     "name": "stdout",
     "output_type": "stream",
     "text": [
      "Enter a string : hel2o world!hel2o world!hel2o world!hel2o world!\n",
      "hello world!hello world!hello world!hello world!\n"
     ]
    }
   ],
   "source": [
    "def decompress():\n",
    "    string=input(\"Enter a string : \")\n",
    "    out=''\n",
    "    \n",
    "    for i in range(len(string)):\n",
    "        \n",
    "        if string[i].isdigit():\n",
    "            \n",
    "            out += out[-1]*(int(string[i])-1)\n",
    "            \n",
    "        else:\n",
    "            out += string[i]\n",
    "            \n",
    "    print(out)\n",
    "    \n",
    "decompress()\n",
    "            \n",
    "    "
   ]
  },
  {
   "cell_type": "markdown",
   "metadata": {},
   "source": [
    "**Question 6:\n",
    "Please write a binary search function which searches an item in a sorted list. The function should return the index of element to be searched in the list.\n",
    "**"
   ]
  },
  {
   "cell_type": "code",
   "execution_count": 8,
   "metadata": {},
   "outputs": [
    {
     "name": "stdout",
     "output_type": "stream",
     "text": [
      "Enter sorted list : [1,2,3,4,5,6,7,8,9,10]\n",
      "Enter number to be searched : 6\n"
     ]
    },
    {
     "data": {
      "text/plain": [
       "5"
      ]
     },
     "execution_count": 8,
     "metadata": {},
     "output_type": "execute_result"
    }
   ],
   "source": [
    "def binary_search():\n",
    "    list1=eval(input(\"Enter sorted list : \"))\n",
    "    num=int(input(\"Enter number to be searched : \"))\n",
    "    low = 0\n",
    "    high = len(list1)-1\n",
    "    while low <= high:\n",
    "        mid = high+low//2\n",
    "        if list1[mid] < num:\n",
    "            low = mid+1\n",
    "        elif list1[mid] > num:\n",
    "            high = mid-1\n",
    "        else:\n",
    "            return mid\n",
    "    else:\n",
    "        return 'Input Element not in the list'\n",
    "    \n",
    "binary_search()\n",
    "            \n",
    "            "
   ]
  }
 ],
 "metadata": {
  "kernelspec": {
   "display_name": "Python 3",
   "language": "python",
   "name": "python3"
  },
  "language_info": {
   "codemirror_mode": {
    "name": "ipython",
    "version": 3
   },
   "file_extension": ".py",
   "mimetype": "text/x-python",
   "name": "python",
   "nbconvert_exporter": "python",
   "pygments_lexer": "ipython3",
   "version": "3.6.5"
  }
 },
 "nbformat": 4,
 "nbformat_minor": 2
}
