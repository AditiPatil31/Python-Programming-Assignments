{
 "cells": [
  {
   "cell_type": "markdown",
   "metadata": {},
   "source": [
    "**Question1. Create a function that takes three arguments a, b, c and returns the sum of the numbers that are evenly divided by c from the range a, b inclusive.**"
   ]
  },
  {
   "cell_type": "markdown",
   "metadata": {},
   "source": [
    "Examples\n",
    "evenly_divisible(1, 10, 20) ➞ 0\n",
    "# No number between 1 and 10 can be evenly divided by 20.\n",
    "\n",
    "evenly_divisible(1, 10, 2) ➞ 30\n",
    "# 2 + 4 + 6 + 8 + 10 = 30\n",
    "\n",
    "evenly_divisible(1, 10, 3) ➞ 18\n",
    "# 3 + 6 + 9 = 18\n",
    "\n"
   ]
  },
  {
   "cell_type": "code",
   "execution_count": 19,
   "metadata": {},
   "outputs": [
    {
     "name": "stdout",
     "output_type": "stream",
     "text": [
      "evenly_divisible(1, 10, 20) --> 0\n",
      "No number between 1 and 10 can be evenly divided by 20\n",
      "evenly_divisible(1, 10, 2) --> 30\n",
      "2 + 4 + 6 + 8 + 10 = 30\n",
      "evenly_divisible(1, 10, 3) --> 18\n",
      "3 + 6 + 9 = 18\n"
     ]
    }
   ],
   "source": [
    "def evenly_divisible(a,b,c):\n",
    "    sum=0\n",
    "    d=[]\n",
    "    for num in range(a,b+1):\n",
    "        if num%c==0:\n",
    "            \n",
    "            sum +=num\n",
    "            d.append(str(num))\n",
    "            \n",
    "    if sum==0:\n",
    "        print(f'evenly_divisible{a,b,c} --> {0}')\n",
    "        print(f'No number between {a} and {b} can be evenly divided by {c}')\n",
    "            \n",
    "            \n",
    "            \n",
    "    else:        \n",
    "        print(f'evenly_divisible{a,b,c} --> {sum}')\n",
    "        str_l=' + '.join(d)\n",
    "        print(f'{str_l} = {sum}')\n",
    "    \n",
    "evenly_divisible(1, 10, 20)\n",
    "evenly_divisible(1,10,2) \n",
    "evenly_divisible(1, 10, 3) \n",
    "    \n",
    "    "
   ]
  },
  {
   "cell_type": "markdown",
   "metadata": {},
   "source": [
    "**Question2. Create a function that returns True if a given inequality expression is correct and False otherwise.**"
   ]
  },
  {
   "cell_type": "markdown",
   "metadata": {},
   "source": [
    "Examples\n",
    "<br>\n",
    "correct_signs(\"3 < 7 < 11\") ➞ True\n",
    "<br>\n",
    "\n",
    "correct_signs(\"13 > 44 > 33 > 1\") ➞ False\n",
    "<br>\n",
    "\n",
    "correct_signs(\"1 < 2 < 6 < 9 > 3\") ➞ True\n",
    "<br>\n"
   ]
  },
  {
   "cell_type": "code",
   "execution_count": 25,
   "metadata": {},
   "outputs": [
    {
     "name": "stdout",
     "output_type": "stream",
     "text": [
      "correct_signs(\"3 < 7 < 11\") --> True\n",
      "correct_signs(\"13 > 44 > 33 > 1\") --> False\n",
      "correct_signs(\"1 < 2 < 6 < 9 > 3\") --> True\n"
     ]
    }
   ],
   "source": [
    "\n",
    "def correct_signs(exp):\n",
    "    result=eval(exp)\n",
    "    print(f'correct_signs(\"{exp}\") --> {result}')\n",
    "          \n",
    "correct_signs(\"3 < 7 < 11\")\n",
    "correct_signs(\"13 > 44 > 33 > 1\")\n",
    "correct_signs(\"1 < 2 < 6 < 9 > 3\")"
   ]
  },
  {
   "cell_type": "markdown",
   "metadata": {},
   "source": [
    "**Question3. Create a function that replaces all the vowels in a string with a specified character.**"
   ]
  },
  {
   "cell_type": "markdown",
   "metadata": {},
   "source": [
    "Examples\n",
    "replace_vowels(\"the aardvark\", \"#\") ➞ \"th# ##rdv#rk\"\n",
    "\n",
    "replace_vowels(\"minnie mouse\", \"?\") ➞ \"m?nn?? m??s?\"\n",
    "\n",
    "replace_vowels(\"shakespeare\", \"*\") ➞ \"sh*k*sp**r*\"\n",
    "\n"
   ]
  },
  {
   "cell_type": "code",
   "execution_count": 67,
   "metadata": {},
   "outputs": [
    {
     "name": "stdout",
     "output_type": "stream",
     "text": [
      "replace_vowels(\"the aardvark\",\"#\") --> \"th# ##rdv#rk\"\n",
      "replace_vowels(\"minnie mouse\",\"?\") --> \"m?nn?? m??s?\"\n",
      "replace_vowels(\"shakespeare\",\"*\") --> \"sh*k*sp**r*\"\n"
     ]
    }
   ],
   "source": [
    "def replace_vowels(string,ch):\n",
    "    \n",
    "    vowel=['a','e','i','o','u','A','E','I','O','U']\n",
    "    \n",
    "    str_copy=string\n",
    "    \n",
    "    for c in string:\n",
    "        if c in vowel:\n",
    "            string=string.replace(c,ch)\n",
    "            \n",
    "    print(f'replace_vowels(\"{str_copy}\",\"{ch}\") --> \"{string}\"')\n",
    "    \n",
    "\n",
    "replace_vowels(\"the aardvark\", \"#\") \n",
    "replace_vowels(\"minnie mouse\", \"?\")\n",
    "replace_vowels(\"shakespeare\", \"*\")\n"
   ]
  },
  {
   "cell_type": "markdown",
   "metadata": {},
   "source": [
    "**Question4. Write a function that calculates the factorial of a number recursively.**"
   ]
  },
  {
   "cell_type": "markdown",
   "metadata": {},
   "source": [
    "Examples\n",
    "factorial(5) ➞ 120\n",
    "\n",
    "factorial(3) ➞ 6\n",
    "\n",
    "factorial(1) ➞ 1\n",
    "\n",
    "factorial(0) ➞ 1\n",
    "\n"
   ]
  },
  {
   "cell_type": "code",
   "execution_count": 52,
   "metadata": {},
   "outputs": [
    {
     "name": "stdout",
     "output_type": "stream",
     "text": [
      "factorial(5) --> 120\n",
      "factorial(3) --> 6\n",
      "factorial(1) --> 1\n",
      "factorial(0) --> 1\n"
     ]
    }
   ],
   "source": [
    "def factorial(n):\n",
    "    if n==0 or n==1:\n",
    "        return 1\n",
    "    \n",
    "    return n *factorial(n-1)\n",
    "\n",
    "print(f'factorial({5}) --> {factorial(5)}')\n",
    "print(f'factorial({3}) --> {factorial(3)}')\n",
    "print(f'factorial({1}) --> {factorial(1)}')\n",
    "print(f'factorial({0}) --> {factorial(0)}')"
   ]
  },
  {
   "cell_type": "markdown",
   "metadata": {},
   "source": [
    "**Question 5\n",
    "<br>\n",
    "Hamming distance is the number of characters that differ between two strings.\n",
    "<br>\n",
    "To illustrate:\n",
    "<br>\n",
    "String1: \"abcbba\"\n",
    "<br>\n",
    "String2: \"abcbda\"\n",
    "**\n",
    "<br>\n",
    "Hamming Distance: 1 - \"b\" vs. \"d\" is the only difference.\n",
    "Create a function that computes the hamming distance between two strings."
   ]
  },
  {
   "cell_type": "markdown",
   "metadata": {},
   "source": [
    "Examples\n",
    "hamming_distance(\"abcde\", \"bcdef\") ➞ 5\n",
    "\n",
    "hamming_distance(\"abcde\", \"abcde\") ➞ 0\n",
    "\n",
    "hamming_distance(\"strong\", \"strung\") ➞ 1"
   ]
  },
  {
   "cell_type": "code",
   "execution_count": 77,
   "metadata": {},
   "outputs": [
    {
     "name": "stdout",
     "output_type": "stream",
     "text": [
      "hamming_distance(\"abcde\",\"bcdef\") --> 5\n",
      "hamming_distance(\"abcde\",\"abcde\") --> 0\n",
      "hamming_distance(\"strong\",\"strung\") --> 1\n"
     ]
    }
   ],
   "source": [
    "def hamming_distance(str1,str2):\n",
    "    \n",
    "    lst1=list(str1)\n",
    "    lst2=list(str2)\n",
    "    count=0\n",
    "    \n",
    "    if len(lst1)==len(lst2):\n",
    "        \n",
    "        for i in range(len(lst1)):\n",
    "            \n",
    "            if lst1[i]!=lst2[i]:\n",
    "                \n",
    "                count +=1\n",
    "        print(f'hamming_distance(\"{str1}\",\"{str2}\") --> {count}')    \n",
    "    \n",
    "    else:\n",
    "        print('Length of two strings must be same')\n",
    "    \n",
    "hamming_distance(\"abcde\", \"bcdef\")\n",
    "hamming_distance(\"abcde\", \"abcde\")\n",
    "hamming_distance(\"strong\", \"strung\")\n"
   ]
  }
 ],
 "metadata": {
  "kernelspec": {
   "display_name": "Python 3",
   "language": "python",
   "name": "python3"
  },
  "language_info": {
   "codemirror_mode": {
    "name": "ipython",
    "version": 3
   },
   "file_extension": ".py",
   "mimetype": "text/x-python",
   "name": "python",
   "nbconvert_exporter": "python",
   "pygments_lexer": "ipython3",
   "version": "3.6.5"
  }
 },
 "nbformat": 4,
 "nbformat_minor": 2
}
