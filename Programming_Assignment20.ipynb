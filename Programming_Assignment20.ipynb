{
 "cells": [
  {
   "cell_type": "markdown",
   "metadata": {},
   "source": [
    "**Question1\n",
    "Create a function that takes a list of strings and integers, and filters out the list so that it returns a list of integers only.\n",
    "**"
   ]
  },
  {
   "cell_type": "markdown",
   "metadata": {},
   "source": [
    "Examples\n",
    "<br>\n",
    "filter_list([1, 2, 3, \"a\", \"b\", 4]) ➞ [1, 2, 3, 4]\n",
    "<br>\n",
    "\n",
    "filter_list([\"A\", 0, \"Edabit\", 1729, \"Python\", \"1729\"]) ➞ [0, 1729]\n",
    "<br>\n",
    "\n",
    "filter_list([\"Nothing\", \"here\"]) ➞ []\n"
   ]
  },
  {
   "cell_type": "code",
   "execution_count": 3,
   "metadata": {},
   "outputs": [
    {
     "name": "stdout",
     "output_type": "stream",
     "text": [
      "filter_list([1, 2, 3, 'a', 'b', 4]) --> [1, 2, 3, 4]\n",
      "filter_list(['A', 0, 'Edabit', 1729, 'Python', '1729']) --> [0, 1729]\n",
      "filter_list(['Nothing', 'here']) --> []\n"
     ]
    }
   ],
   "source": [
    "def filter_list(lst):\n",
    "    \n",
    "    n=[]\n",
    "    \n",
    "    if  all((type(i)==str or (type(i)==int)) for i in lst):\n",
    "        \n",
    "        for item in lst:\n",
    "            \n",
    "            if type(item)==int:\n",
    "                \n",
    "                n.append(item)\n",
    "        print(f'filter_list({lst}) --> {n}')\n",
    "    \n",
    "    else:\n",
    "        print(\"Enter list of strings and integers\") \n",
    "        \n",
    "filter_list([1, 2, 3, \"a\", \"b\", 4])\n",
    "filter_list([\"A\", 0, \"Edabit\", 1729, \"Python\", \"1729\"])\n",
    "filter_list([\"Nothing\", \"here\"])"
   ]
  },
  {
   "cell_type": "markdown",
   "metadata": {},
   "source": [
    "**Question2\n",
    "Given a list of numbers, create a function which returns the list but with each element's index in the list added to itself. This means you add 0 to the number at index 0, add 1 to the number at index 1, etc...\n",
    "**"
   ]
  },
  {
   "cell_type": "markdown",
   "metadata": {},
   "source": [
    "Examples\n",
    "<br>\n",
    "add_indexes([0, 0, 0, 0, 0]) ➞ [0, 1, 2, 3, 4]\n",
    "<br>\n",
    "add_indexes([1, 2, 3, 4, 5]) ➞ [1, 3, 5, 7, 9]\n",
    "<br>\n",
    "add_indexes([5, 4, 3, 2, 1]) ➞ [5, 5, 5, 5, 5]\n"
   ]
  },
  {
   "cell_type": "code",
   "execution_count": 8,
   "metadata": {},
   "outputs": [
    {
     "name": "stdout",
     "output_type": "stream",
     "text": [
      "added_indexes([0, 0, 0, 0, 0]) --> [0, 1, 2, 3, 4]\n",
      "added_indexes([1, 2, 3, 4, 5]) --> [1, 3, 5, 7, 9]\n",
      "added_indexes([5, 4, 3, 2, 1]) --> [5, 5, 5, 5, 5]\n"
     ]
    }
   ],
   "source": [
    "def add_indexes(lst):\n",
    "    new_lst=[]\n",
    "    for i in range(len(lst)):\n",
    "        new_lst.append(i+lst[i])\n",
    "    print(f'added_indexes({lst}) --> {new_lst}')\n",
    "    \n",
    "add_indexes([0, 0, 0, 0, 0])\n",
    "add_indexes([1, 2, 3, 4, 5])\n",
    "add_indexes([5, 4, 3, 2, 1])"
   ]
  },
  {
   "cell_type": "markdown",
   "metadata": {},
   "source": [
    "**Question3\n",
    "Create a function that takes the height and radius of a cone as arguments and returns the volume of the cone rounded to the nearest hundredth. See the resources tab for the formula.\n",
    "**"
   ]
  },
  {
   "cell_type": "markdown",
   "metadata": {},
   "source": [
    "Examples\n",
    "<br>\n",
    "cone_volume(3, 2) ➞ 12.57\n",
    "<br>\n",
    "cone_volume(15, 6) ➞ 565.49\n",
    "<br>\n",
    "cone_volume(18, 0) ➞ 0\n",
    "\n"
   ]
  },
  {
   "cell_type": "code",
   "execution_count": 14,
   "metadata": {},
   "outputs": [
    {
     "name": "stdout",
     "output_type": "stream",
     "text": [
      "cone_volume(3,2) --> 12.57\n",
      "cone_volume(15,6) --> 565.49\n",
      "cone_volume(18,0) --> 0.0\n"
     ]
    }
   ],
   "source": [
    "import math\n",
    "def cone_volume(h,r):\n",
    "    pi=3.14\n",
    "    vol = (math.pi * (r**2) * h)/3\n",
    "    volume = round(vol,2)\n",
    "    print(f'cone_volume({h},{r}) --> {volume}')\n",
    "          \n",
    "cone_volume(3,2)\n",
    "cone_volume(15, 6)\n",
    "cone_volume(18, 0)"
   ]
  },
  {
   "cell_type": "markdown",
   "metadata": {},
   "source": [
    "**Question4\n",
    "This Triangular Number Sequence is generated from a pattern of dots that form a triangle. The first 5 numbers of the sequence, or dots, are: \n",
    "1, 3, 6, 10, 15\n",
    "**"
   ]
  },
  {
   "cell_type": "markdown",
   "metadata": {},
   "source": [
    "This means that the first triangle has just one dot, the second one has three dots, the third one has 6 dots and so on.\n",
    "Write a function that gives the number of dots with its corresponding triangle number of the sequence.\n",
    "<br>\n",
    "Examples\n",
    "<br>\n",
    "triangle(1) ➞ 1\n",
    "<br>\n",
    "triangle(6) ➞ 21\n",
    "<br>\n",
    "triangle(215) ➞ 23220\n"
   ]
  },
  {
   "cell_type": "code",
   "execution_count": 26,
   "metadata": {},
   "outputs": [
    {
     "name": "stdout",
     "output_type": "stream",
     "text": [
      "triangle(1) --> 1\n",
      "triangle(6) --> 21\n",
      "triangle(215) --> 23220\n"
     ]
    }
   ],
   "source": [
    "def triangle(n):\n",
    "    seq=0\n",
    "    for i in range(1,n+1):\n",
    "        seq +=i\n",
    "    print(f'triangle({n}) --> {seq}')\n",
    "          \n",
    "triangle(1)\n",
    "triangle(6)\n",
    "triangle(215)         \n",
    "        \n",
    "    "
   ]
  },
  {
   "cell_type": "markdown",
   "metadata": {},
   "source": [
    "**Question5\n",
    "Create a function that takes a list of numbers between 1 and 10 (excluding one number) and returns the missing number.\n",
    "**"
   ]
  },
  {
   "cell_type": "markdown",
   "metadata": {},
   "source": [
    "Examples\n",
    "<br>\n",
    "missing_num([1, 2, 3, 4, 6, 7, 8, 9, 10]) ➞ 5\n",
    "<br>\n",
    "\n",
    "missing_num([7, 2, 3, 6, 5, 9, 1, 4, 8]) ➞ 10\n",
    "<br>\n",
    "\n",
    "missing_num([10, 5, 1, 2, 4, 6, 8, 3, 9]) ➞ 7\n",
    "\n"
   ]
  },
  {
   "cell_type": "code",
   "execution_count": 59,
   "metadata": {},
   "outputs": [
    {
     "name": "stdout",
     "output_type": "stream",
     "text": [
      "missing_num([1, 2, 3, 4, 6, 7, 8, 9, 10]) --> 5\n",
      "missing_num([7, 2, 3, 6, 5, 9, 1, 4, 8]) --> 10\n",
      "missing_num([10, 5, 1, 2, 4, 6, 8, 3, 9]) --> 7\n"
     ]
    }
   ],
   "source": [
    "def missing_num(sublist):\n",
    "    lst=[i for i in range(1,11)]\n",
    "    \n",
    "    if (len(sublist)==9 and (set(sublist).issubset(set(lst)))):\n",
    "        \n",
    "        for i in lst:\n",
    "            if i not in sublist:\n",
    "                print(f'missing_num({sublist}) --> {i}')\n",
    "    else:\n",
    "        print(\"Enter list as per given condition \")\n",
    "        \n",
    "missing_num([1, 2, 3, 4, 6, 7, 8, 9, 10])\n",
    "missing_num([7, 2, 3, 6, 5, 9, 1, 4, 8]) \n",
    "missing_num([10, 5, 1, 2, 4, 6, 8, 3, 9])     "
   ]
  }
 ],
 "metadata": {
  "kernelspec": {
   "display_name": "Python 3",
   "language": "python",
   "name": "python3"
  },
  "language_info": {
   "codemirror_mode": {
    "name": "ipython",
    "version": 3
   },
   "file_extension": ".py",
   "mimetype": "text/x-python",
   "name": "python",
   "nbconvert_exporter": "python",
   "pygments_lexer": "ipython3",
   "version": "3.6.5"
  }
 },
 "nbformat": 4,
 "nbformat_minor": 2
}
