{
 "cells": [
  {
   "cell_type": "markdown",
   "metadata": {},
   "source": [
    "**Question1. Write a function that stutters a word as if someone is struggling to read it. The first two letters are repeated twice with an ellipsis ... and space after each, and then the word is pronounced with a question mark ?.**"
   ]
  },
  {
   "cell_type": "markdown",
   "metadata": {},
   "source": [
    "Examples\n",
    "<br>\n",
    "stutter(\"incredible\") ➞ \"in... in... incredible?\"\n",
    "<br>\n",
    "\n",
    "stutter(\"enthusiastic\") ➞ \"en... en... enthusiastic?\"\n",
    "<br>\n",
    "\n",
    "stutter(\"outstanding\") ➞ \"ou... ou... outstanding?\"\n",
    "<br>\n",
    "\n",
    "Hint :- Assume all input is in lower case and at least two characters long.\n"
   ]
  },
  {
   "cell_type": "code",
   "execution_count": 4,
   "metadata": {},
   "outputs": [
    {
     "name": "stdout",
     "output_type": "stream",
     "text": [
      "Enter a word [\"incredible\",\"enthusiastic\",\"outstanding\"]\n",
      "stutter(\"incredible\") --> \"in...in...incredible?\"\n",
      "stutter(\"enthusiastic\") --> \"en...en...enthusiastic?\"\n",
      "stutter(\"outstanding\") --> \"ou...ou...outstanding?\"\n"
     ]
    }
   ],
   "source": [
    "\n",
    "def stutter():\n",
    "    \n",
    "    \n",
    "    list_word=eval(input(\"Enter a word \"))\n",
    "    \n",
    "    for word in list_word:\n",
    "        \n",
    "        ellipsis=''.join([word[0],word[1]])\n",
    "    \n",
    "        pronounce = ellipsis + \"...\" + ellipsis + \"...\" + word + \"?\"\n",
    "    \n",
    "        print(f'stutter(\"{word}\") --> \"{pronounce}\"')\n",
    "\n",
    "stutter()\n"
   ]
  },
  {
   "cell_type": "markdown",
   "metadata": {},
   "source": [
    "**Question 2.Create a function that takes an angle in radians and returns the corresponding angle in degrees rounded to one decimal place.**"
   ]
  },
  {
   "cell_type": "markdown",
   "metadata": {},
   "source": [
    "Examples\n",
    "radians_to_degrees(1) ➞ 57.3\n",
    "\n",
    "radians_to_degrees(20) ➞ 1145.9\n",
    "\n",
    "radians_to_degrees(50) ➞ 2864.8\n"
   ]
  },
  {
   "cell_type": "code",
   "execution_count": 9,
   "metadata": {},
   "outputs": [
    {
     "name": "stdout",
     "output_type": "stream",
     "text": [
      "Enter angle in radian [1,20,50]\n",
      "radians_to_degrees(1) --> 57.3\n",
      "radians_to_degrees(20) --> 1145.9\n",
      "radians_to_degrees(50) --> 2864.8\n"
     ]
    }
   ],
   "source": [
    "def radian_to_degree():\n",
    "    \n",
    "    r=eval(input(\"Enter angle in radian \"))\n",
    "    \n",
    "    for angle in r:\n",
    "        print(f'radians_to_degrees({angle}) --> {round(57.2958*angle,1)}')\n",
    "        \n",
    "radian_to_degree()\n",
    "    \n",
    "    "
   ]
  },
  {
   "cell_type": "markdown",
   "metadata": {},
   "source": [
    "**Question 3. In this challenge, establish if a given integer num is a Curzon number. If 1 plus 2 elevated to num is exactly divisible by 1 plus 2 multiplied by num, then num is a Curzon number.\n",
    "Given a non-negative integer num, implement a function that returns True if num is a Curzon number, or False otherwise.\n",
    "**"
   ]
  },
  {
   "cell_type": "markdown",
   "metadata": {},
   "source": [
    "Examples\n",
    "is_curzon(5) ➞ True\n",
    "2 ** 5 + 1 = 33\n",
    " 2 * 5 + 1 = 11\n",
    " 33 is a multiple of 11\n",
    "\n",
    "is_curzon(10) ➞ False\n",
    "2 ** 10 + 1 = 1025\n",
    " 2 * 10 + 1 = 21\n",
    "1025 is not a multiple of 21\n",
    "\n",
    "is_curzon(14) ➞ True\n",
    "2 ** 14 + 1 = 16385\n",
    "2 * 14 + 1 = 29\n",
    "16385 is a multiple of 29\n"
   ]
  },
  {
   "cell_type": "code",
   "execution_count": 21,
   "metadata": {},
   "outputs": [
    {
     "name": "stdout",
     "output_type": "stream",
     "text": [
      "is_curzon(5) --> True\n",
      "2 ** 5 + 1 = 33\n",
      "2 * 5 + 1 = 11\n",
      "33 is a multiple of 11\n",
      "is_curzon(10) --> False\n",
      "2 ** 10 + 1 = 1025\n",
      "2 * 10 + 1 = 21\n",
      "1025 is not a multiple of 21\n",
      "is_curzon(14) --> True\n",
      "2 ** 14 + 1 = 16385\n",
      "2 * 14 + 1 = 29\n",
      "16385 is a multiple of 29\n"
     ]
    }
   ],
   "source": [
    "def is_curzon(n):\n",
    "    a=(2**n)+1\n",
    "    b=(2*n)+1**\n",
    "    \n",
    "    if a%b==0:\n",
    "        print(f'is_curzon({n}) --> {True}')\n",
    "        print(f'{2} ** {(n)} + 1 = {a}')\n",
    "        print(f'{2} * {(n)} + 1 = {b}')\n",
    "        print(f'{a} is a multiple of {b}')\n",
    "    else:\n",
    "        print(f'is_curzon({n}) --> {False}')\n",
    "        print(f'{2} ** {(n)} + 1 = {a}')\n",
    "        print(f'{2} * {(n)} + 1 = {b}')\n",
    "        print(f'{a} is not a multiple of {b}')\n",
    "    \n",
    "is_curzon(5)  \n",
    "is_curzon(10)  \n",
    "is_curzon(14)  "
   ]
  },
  {
   "cell_type": "markdown",
   "metadata": {},
   "source": [
    "**Question 4.Given the side length x find the area of a hexagon.**"
   ]
  },
  {
   "cell_type": "code",
   "execution_count": 29,
   "metadata": {},
   "outputs": [
    {
     "name": "stdout",
     "output_type": "stream",
     "text": [
      "Enter sides [1,2,3]\n",
      "area_of_hexagon(1) --> 2.6\n",
      "area_of_hexagon(2) --> 10.4\n",
      "area_of_hexagon(3) --> 23.4\n"
     ]
    }
   ],
   "source": [
    "import math\n",
    "side=eval(input(\"Enter sides \"))\n",
    "def area_of_hexagon(side):\n",
    "    \n",
    "    for S in side:\n",
    "        \n",
    "        sqr=math.sqrt(3)\n",
    "        A=(3*sqr*(S**2))/2\n",
    "    \n",
    "        print(f'area_of_hexagon({S}) --> {round(A,1)}')\n",
    "          \n",
    "area_of_hexagon(side)\n",
    "    "
   ]
  },
  {
   "cell_type": "markdown",
   "metadata": {},
   "source": [
    "**Question 5. Create a function that returns a base-2 (binary) representation of a base-10 (decimal) string number. To convert is simple: ((2) means base-2 and (10) means base-10) 010101001(2) = 1 + 8 + 32 + 128.**"
   ]
  },
  {
   "cell_type": "markdown",
   "metadata": {},
   "source": [
    "Going from right to left, the value of the most right bit is 1, now from that every bit to the left will be x2 the value, value of an 8 bit binary numbers are (256, 128, 64, 32, 16, 8, 4, 2, 1).\n",
    "Examples\n",
    "binary(1) ➞ \"1\"\n",
    "1*1 = 1\n",
    "\n",
    "binary(5) ➞ \"101\"\n",
    "1*1 + 1*4 = 5\n",
    "\n",
    "binary(10) ➞ \"1010\"\n",
    "1*2 + 1*8 = 10\n"
   ]
  },
  {
   "cell_type": "code",
   "execution_count": 199,
   "metadata": {},
   "outputs": [
    {
     "name": "stdout",
     "output_type": "stream",
     "text": [
      "binary(1) --> \"1\"\n",
      "1*1 = 1\n",
      "binary(5) --> \"101\"\n",
      "1*1 + 1*4 = 5\n",
      "binary(10) --> \"1010\"\n",
      "1*2 + 1*8 = 10\n"
     ]
    }
   ],
   "source": [
    "def binary(num):\n",
    "    \n",
    "    binary_val=[]\n",
    "    temp=num\n",
    "    while temp!=0:\n",
    "        n=temp%2\n",
    "        binary_val.append(n)\n",
    "    \n",
    "        temp=temp//2\n",
    "    \n",
    "    \n",
    "    \n",
    "    \n",
    "    decimal=0\n",
    "    result=[]\n",
    "    \n",
    "    index = [i for i, x in enumerate(binary_val) if x == 1]\n",
    "    \n",
    "    for i in index:\n",
    "        \n",
    "        power=pow(2,i)\n",
    "        result.append(f'{1}*{power}')\n",
    "        decimal +=(pow(2,i))\n",
    "        \n",
    "    \n",
    "    \n",
    "    binary_val.reverse()\n",
    "    dec=''.join([str(i) for i in binary_val])\n",
    "    print(f'binary({num}) --> \"{dec}\"')\n",
    "    \n",
    "    result=' + '.join(result) \n",
    "    print(f'{result} = {decimal}')\n",
    "    \n",
    "binary(1)  \n",
    "binary(5)\n",
    "binary(10)"
   ]
  }
 ],
 "metadata": {
  "kernelspec": {
   "display_name": "Python 3",
   "language": "python",
   "name": "python3"
  },
  "language_info": {
   "codemirror_mode": {
    "name": "ipython",
    "version": 3
   },
   "file_extension": ".py",
   "mimetype": "text/x-python",
   "name": "python",
   "nbconvert_exporter": "python",
   "pygments_lexer": "ipython3",
   "version": "3.6.5"
  }
 },
 "nbformat": 4,
 "nbformat_minor": 2
}
