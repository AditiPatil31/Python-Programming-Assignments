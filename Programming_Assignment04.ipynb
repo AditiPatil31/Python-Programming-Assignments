{
 "cells": [
  {
   "cell_type": "markdown",
   "metadata": {},
   "source": [
    "**1.\tWrite a Python Program to Find the Factorial of a Number?**"
   ]
  },
  {
   "cell_type": "code",
   "execution_count": 14,
   "metadata": {},
   "outputs": [
    {
     "name": "stdout",
     "output_type": "stream",
     "text": [
      "Enter any number 7\n",
      "Factorial of a 7 is 5040\n"
     ]
    }
   ],
   "source": [
    "num=int(input(\"Enter any number \"))\n",
    "\n",
    "def factorial(num):\n",
    "    \n",
    "    if num <1 :\n",
    "        return 1\n",
    "    \n",
    "    else:\n",
    "        \n",
    "        fact=1\n",
    "        for i in range(1,num+1):\n",
    "            fact=fact*i\n",
    "        return fact\n",
    "\n",
    "value=factorial(num)    \n",
    "print(\"Factorial of a {0} is {1}\".format(num,value))  \n"
   ]
  },
  {
   "cell_type": "markdown",
   "metadata": {},
   "source": [
    "**2.\tWrite a Python Program to Display the multiplication Table?**"
   ]
  },
  {
   "cell_type": "code",
   "execution_count": 16,
   "metadata": {},
   "outputs": [
    {
     "name": "stdout",
     "output_type": "stream",
     "text": [
      "Enter any number 14\n",
      "Enter number of entries do you want 10\n",
      "14 X 1 = 14\n",
      "14 X 2 = 28\n",
      "14 X 3 = 42\n",
      "14 X 4 = 56\n",
      "14 X 5 = 70\n",
      "14 X 6 = 84\n",
      "14 X 7 = 98\n",
      "14 X 8 = 112\n",
      "14 X 9 = 126\n",
      "14 X 10 = 140\n"
     ]
    }
   ],
   "source": [
    "num=int(input(\"Enter any number \"))\n",
    "entries=int(input(\"Enter number of entries do you want \"))\n",
    "\n",
    "def multiplication(num,entries):\n",
    "    \n",
    "    for i in range(1,entries+1):\n",
    "        \n",
    "        mult= num*i\n",
    "        \n",
    "        print(\"{0} X {1} = {2}\".format(num,i,mult))\n",
    "        \n",
    "multiplication(num,entries)\n",
    "         \n",
    "    "
   ]
  },
  {
   "cell_type": "markdown",
   "metadata": {},
   "source": [
    "**3.\tWrite a Python Program to Print the Fibonacci sequence?**"
   ]
  },
  {
   "cell_type": "code",
   "execution_count": 20,
   "metadata": {},
   "outputs": [
    {
     "name": "stdout",
     "output_type": "stream",
     "text": [
      "Enter number of terms  20\n",
      "Fibonacci sequence upto 20 is :\n",
      "0 1 1 2 3 5 8 13 21 34 55 89 144 233 377 610 987 1597 2584 "
     ]
    }
   ],
   "source": [
    "num = int(input(\"Enter number of terms  \"))\n",
    "\n",
    "def fibo(num):\n",
    "    n1,n2=0,1\n",
    "    count=1\n",
    "    \n",
    "    if num < 1:\n",
    "        print(\"Enter positive integer\")\n",
    "    \n",
    "    elif num == 1:\n",
    "        print(\"Fibonacci sequence upto {0} is {1} \".format(num,n1))\n",
    "        \n",
    "    else:\n",
    "        print(\"Fibonacci sequence upto {0} is :\".format(num))\n",
    "        \n",
    "        while count<num:\n",
    "            print(n1,end=\" \")\n",
    "            \n",
    "            n=n1+n2\n",
    "            \n",
    "            n1=n2\n",
    "            n2=n\n",
    "            \n",
    "            count +=1\n",
    "            \n",
    "fibo(num)\n",
    "            \n",
    "            "
   ]
  },
  {
   "cell_type": "markdown",
   "metadata": {},
   "source": [
    "**4.\tWrite a Python Program to Check Armstrong Number?**"
   ]
  },
  {
   "cell_type": "code",
   "execution_count": 36,
   "metadata": {},
   "outputs": [
    {
     "name": "stdout",
     "output_type": "stream",
     "text": [
      "Enter any number 290\n",
      "290 is not Armstrong Number\n",
      "Enter any number 407\n",
      "407 is Armstrong Number\n"
     ]
    }
   ],
   "source": [
    "\n",
    "\n",
    "def Armstrong(num):\n",
    "    \n",
    "    num = int(input(\"Enter any number \"))\n",
    "    sum=0\n",
    "    temp=num\n",
    "    \n",
    "    while temp>0:\n",
    "        \n",
    "        n1=temp%10\n",
    "        temp=temp//10\n",
    "        \n",
    "        sum=sum+(n1**3)\n",
    "        \n",
    "    if sum == num:\n",
    "        print(num,\"is Armstrong Number\")\n",
    "        \n",
    "    else:\n",
    "        print(num,\"is not Armstrong Number\")\n",
    "    \n",
    "\n",
    "for i in range(2):\n",
    "    Armstrong(num)"
   ]
  },
  {
   "cell_type": "markdown",
   "metadata": {},
   "source": [
    "**5.\tWrite a Python Program to Find Armstrong Number in an Interval?**"
   ]
  },
  {
   "cell_type": "code",
   "execution_count": 42,
   "metadata": {},
   "outputs": [
    {
     "name": "stdout",
     "output_type": "stream",
     "text": [
      "Enter lower range number 1\n",
      "Enter higher range number 1000\n",
      "Armstrong numbers between 1 and 1000 are \n",
      "1\n",
      "153\n",
      "370\n",
      "371\n",
      "407\n"
     ]
    }
   ],
   "source": [
    "a=int(input(\"Enter lower range number \"))\n",
    "b=int(input(\"Enter higher range number \"))\n",
    "\n",
    "def checkArmstrong(a,b):\n",
    "    \n",
    "    print(\"Armstrong numbers between {0} and {1} are \".format(a,b))\n",
    "\n",
    "    \n",
    "    for num in range (a,b):\n",
    "        \n",
    "        sum=0\n",
    "        temp=num\n",
    "        \n",
    "        while temp>0:\n",
    "            \n",
    "            n1=temp%10\n",
    "            temp=temp//10\n",
    "            sum=sum+(n1**3)\n",
    "            \n",
    "        if sum == num:\n",
    "            print(num)\n",
    "            \n",
    "    \n",
    "    \n",
    "checkArmstrong(a,b)"
   ]
  },
  {
   "cell_type": "markdown",
   "metadata": {},
   "source": [
    "**6.\tWrite a Python Program to Find the Sum of Natural Numbers?**"
   ]
  },
  {
   "cell_type": "code",
   "execution_count": 48,
   "metadata": {},
   "outputs": [
    {
     "name": "stdout",
     "output_type": "stream",
     "text": [
      "Enter any number 25\n",
      "The sum of natural number is 325.0\n"
     ]
    }
   ],
   "source": [
    "num= int(input(\"Enter any number \"))\n",
    "\n",
    "def sum(num):\n",
    "    \n",
    "    if num < 0 :\n",
    "        print(\"Enter positive integer\")\n",
    "        \n",
    "    elif num == 0:\n",
    "        print(\"sum is zero\")\n",
    "        \n",
    "    else:\n",
    "        sum1 = (num*(num+1))/2\n",
    "        \n",
    "        return sum1\n",
    "    \n",
    "value=sum(num)\n",
    "print(\"The sum of natural number is\",value)"
   ]
  },
  {
   "cell_type": "code",
   "execution_count": null,
   "metadata": {},
   "outputs": [],
   "source": []
  }
 ],
 "metadata": {
  "kernelspec": {
   "display_name": "Python 3",
   "language": "python",
   "name": "python3"
  },
  "language_info": {
   "codemirror_mode": {
    "name": "ipython",
    "version": 3
   },
   "file_extension": ".py",
   "mimetype": "text/x-python",
   "name": "python",
   "nbconvert_exporter": "python",
   "pygments_lexer": "ipython3",
   "version": "3.6.5"
  }
 },
 "nbformat": 4,
 "nbformat_minor": 2
}
