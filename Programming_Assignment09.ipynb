{
 "cells": [
  {
   "cell_type": "markdown",
   "metadata": {},
   "source": [
    "**1.\tWrite a Python program to check if the given number is a Disarium Number?**"
   ]
  },
  {
   "cell_type": "code",
   "execution_count": 27,
   "metadata": {},
   "outputs": [
    {
     "name": "stdout",
     "output_type": "stream",
     "text": [
      "Enter an integer 518\n",
      "518 is Disarium number\n",
      "Enter an integer 87\n",
      "87 is not Dissarium\n"
     ]
    }
   ],
   "source": [
    "#Whatever you enter as a input,the input function converts it into a string.\n",
    "\n",
    "\n",
    "\n",
    "def Disarium():\n",
    "    \n",
    "    num=input(\"Enter an integer \")\n",
    "    \n",
    "    sum=0\n",
    "    for i in range(len(num)):\n",
    "        \n",
    "        sum=sum + int(num[i])**(i+1)\n",
    "        \n",
    "        \n",
    "    if sum== int(num):\n",
    "        print(num,\"is Disarium number\")\n",
    "        \n",
    "    else:\n",
    "        print(num,\"is not Dissarium\")\n",
    "        \n",
    "Disarium()\n",
    "Disarium()"
   ]
  },
  {
   "cell_type": "markdown",
   "metadata": {},
   "source": [
    "**2.\tWrite a Python program to print all disarium numbers between 1 to 100?**"
   ]
  },
  {
   "cell_type": "code",
   "execution_count": 6,
   "metadata": {},
   "outputs": [
    {
     "name": "stdout",
     "output_type": "stream",
     "text": [
      "Lower range number 1\n",
      "Higher range number 100\n",
      "Disarium numbers between 1 to 100 are :\n",
      "1\n",
      "2\n",
      "3\n",
      "4\n",
      "5\n",
      "6\n",
      "7\n",
      "8\n",
      "9\n",
      "89\n"
     ]
    }
   ],
   "source": [
    "a=int(input(\"Lower range number \"))\n",
    "b=int(input(\"Higher range number \"))\n",
    "\n",
    "def allDisarium(a,b+1):\n",
    "    print(\"Disarium numbers between 1 to 100 are :\")\n",
    "    for num in range(a,b):\n",
    "        \n",
    "        sum=0\n",
    "        for i in range(len(str(num))):\n",
    "            sum=sum + int(str(num)[i])**(i+1)\n",
    "            \n",
    "        if sum== num:\n",
    "            print(num)\n",
    "            \n",
    "        \n",
    "allDisarium(a,b)\n",
    "        \n",
    "        "
   ]
  },
  {
   "cell_type": "markdown",
   "metadata": {},
   "source": [
    "**3.\tWrite a Python program to check if the given number is Happy Number?**"
   ]
  },
  {
   "cell_type": "code",
   "execution_count": 4,
   "metadata": {},
   "outputs": [
    {
     "name": "stdout",
     "output_type": "stream",
     "text": [
      "Enter any number 97\n",
      "97 is a happy number\n"
     ]
    }
   ],
   "source": [
    "num=int(input(\"Enter any number \"))\n",
    "def HappyNum(num):\n",
    "    \n",
    "    sum=0\n",
    "    while num>0:\n",
    "        \n",
    "        rem=num%10\n",
    "        sum=sum+(rem**2)\n",
    "        num=num//10\n",
    "        \n",
    "    return sum\n",
    "\n",
    "result=HappyNum(num)\n",
    "\n",
    "while(result!=1 and result!=4):\n",
    "    result=HappyNum(result)\n",
    "    \n",
    "if(result==1):\n",
    "    print(num,\"is a happy number\")\n",
    "    \n",
    "elif(result==4):\n",
    "    print(num,\"is not a happy number\")\n",
    "    \n",
    "\n",
    "    \n"
   ]
  },
  {
   "cell_type": "markdown",
   "metadata": {},
   "source": [
    "**4.\tWrite a Python program to print all happy numbers between 1 and 100?**"
   ]
  },
  {
   "cell_type": "code",
   "execution_count": 8,
   "metadata": {},
   "outputs": [
    {
     "name": "stdout",
     "output_type": "stream",
     "text": [
      "Happy numbers between 1 to 100 are :\n",
      "[1, 7, 10, 13, 19, 23, 28, 31, 32, 44, 49, 68, 70, 79, 82, 86, 91, 94, 97, 100]\n"
     ]
    }
   ],
   "source": [
    "def AllHappyNum(num):\n",
    "    \n",
    "    sum=0\n",
    "    while num>0:\n",
    "        \n",
    "        rem=num%10\n",
    "        sum=sum+(rem**2)\n",
    "        num=num//10\n",
    "        \n",
    "    return sum\n",
    "\n",
    "print(\"Happy numbers between 1 to 100 are :\")\n",
    "\n",
    "l=[]\n",
    "for num in range(1,101):\n",
    "    \n",
    "    result=AllHappyNum(num)\n",
    "    \n",
    "    while(result!=1 and result!=4):\n",
    "        result=AllHappyNum(result)\n",
    "        \n",
    "    if(result==1):\n",
    "        l.append(num)\n",
    "print(l)\n",
    "    \n",
    "    \n",
    "\n",
    "    \n"
   ]
  },
  {
   "cell_type": "markdown",
   "metadata": {},
   "source": [
    "**5.\tWrite a Python program to determine whether the given number is a Harshad Number?**"
   ]
  },
  {
   "cell_type": "code",
   "execution_count": 18,
   "metadata": {},
   "outputs": [
    {
     "name": "stdout",
     "output_type": "stream",
     "text": [
      "Enter any number 156\n",
      "156 is harshad number\n",
      "Enter any number 93\n",
      "93 is not harshad number\n"
     ]
    }
   ],
   "source": [
    "\n",
    "def harshadnum():\n",
    "    \n",
    "    num=input(\"Enter any number \")\n",
    "\n",
    "    \n",
    "    sum=0\n",
    "    for i in range(len(num)):\n",
    "        sum=sum+int(a[i])\n",
    "        \n",
    "    if (int(num)%sum==0):\n",
    "        print(num,\"is harshad number\")\n",
    "        \n",
    "    else:\n",
    "        print(num,\"is not harshad number\")\n",
    "        \n",
    "harshadnum()\n",
    "harshadnum()"
   ]
  },
  {
   "cell_type": "markdown",
   "metadata": {},
   "source": [
    "**6.\tWrite a Python program to print all pronic numbers between 1 and 100?**"
   ]
  },
  {
   "cell_type": "code",
   "execution_count": 7,
   "metadata": {},
   "outputs": [
    {
     "name": "stdout",
     "output_type": "stream",
     "text": [
      "Pronic numbers between 1 to 100 are \n",
      "[2, 6, 12, 20, 30, 42, 56, 72, 90]\n"
     ]
    }
   ],
   "source": [
    "def pronicnum(num):\n",
    "    flag=False\n",
    "    \n",
    "    for i in range(1,num+1):\n",
    "        \n",
    "        if ((i*(i+1))==num):\n",
    "            \n",
    "            flag=True\n",
    "            break\n",
    "    return flag\n",
    "\n",
    "print(\"Pronic numbers between 1 to 100 are \")\n",
    "p=[]\n",
    "for num in range(1,101):\n",
    "    \n",
    "    if(pronicnum(num)):\n",
    "        p.append(num)\n",
    "print(p)\n",
    "        \n",
    "        "
   ]
  }
 ],
 "metadata": {
  "kernelspec": {
   "display_name": "Python 3",
   "language": "python",
   "name": "python3"
  },
  "language_info": {
   "codemirror_mode": {
    "name": "ipython",
    "version": 3
   },
   "file_extension": ".py",
   "mimetype": "text/x-python",
   "name": "python",
   "nbconvert_exporter": "python",
   "pygments_lexer": "ipython3",
   "version": "3.6.5"
  }
 },
 "nbformat": 4,
 "nbformat_minor": 2
}
