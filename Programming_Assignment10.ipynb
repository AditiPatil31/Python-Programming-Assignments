{
 "cells": [
  {
   "cell_type": "markdown",
   "metadata": {},
   "source": [
    "**1.\tWrite a Python program to find sum of elements in list?**"
   ]
  },
  {
   "cell_type": "code",
   "execution_count": 9,
   "metadata": {},
   "outputs": [
    {
     "name": "stdout",
     "output_type": "stream",
     "text": [
      "Enter no of entries 5\n",
      "Enter a element 9\n",
      "Enter a element 8\n",
      "Enter a element 7\n",
      "Enter a element 6\n",
      "Enter a element 5\n",
      "Sum of elements in list is  35\n"
     ]
    }
   ],
   "source": [
    "def Listsum():\n",
    "    ele=int(input(\"Enter no of entries \"))\n",
    "    list=[]\n",
    "    for i in range(ele):\n",
    "        list.append(int(input(\"Enter a element \")))\n",
    "        \n",
    "    sum1=sum(list)\n",
    "    \n",
    "    return sum1\n",
    "\n",
    "s=Listsum()\n",
    "print(\"Sum of elements in list is \",s)\n",
    "    \n",
    "    "
   ]
  },
  {
   "cell_type": "markdown",
   "metadata": {},
   "source": [
    "**2.\tWrite a Python program to  Multiply all numbers in the list?**"
   ]
  },
  {
   "cell_type": "code",
   "execution_count": 8,
   "metadata": {},
   "outputs": [
    {
     "name": "stdout",
     "output_type": "stream",
     "text": [
      "Enter no of entries 5\n",
      "Enter a element 1\n",
      "Enter a element 2\n",
      "Enter a element 3\n",
      "Enter a element 4\n",
      "Enter a element 5\n",
      "Multiplication of list element is 120\n"
     ]
    }
   ],
   "source": [
    "def ListMul():\n",
    "    ele=int(input(\"Enter no of entries \"))\n",
    "    list=[]\n",
    "    mul=1\n",
    "    \n",
    "    for i in range(ele):\n",
    "        list.append(int(input(\"Enter a element \")))\n",
    "        \n",
    "    for ele in list:\n",
    "        mul=mul*ele\n",
    "        \n",
    "    print(\"Multiplication of list element is {0}\".format(mul))\n",
    "    \n",
    "ListMul()"
   ]
  },
  {
   "cell_type": "markdown",
   "metadata": {},
   "source": [
    "**3.\tWrite a Python program to find smallest number in a list?**"
   ]
  },
  {
   "cell_type": "code",
   "execution_count": 13,
   "metadata": {},
   "outputs": [
    {
     "name": "stdout",
     "output_type": "stream",
     "text": [
      "Enter no of entries 6\n",
      "Enter a element 54\n",
      "Enter a element 13\n",
      "Enter a element 27\n",
      "Enter a element 8\n",
      "Enter a element 37\n",
      "Enter a element 62\n",
      "Smallest number in [54, 13, 27, 8, 37, 62] is 8\n"
     ]
    }
   ],
   "source": [
    "def smallInList():\n",
    "    ele=int(input(\"Enter no of entries \"))\n",
    "    list=[]\n",
    "    \n",
    "    \n",
    "    for i in range(ele):\n",
    "        list.append(int(input(\"Enter a element \")))\n",
    "        \n",
    "    print(f'Smallest number in {list} is {(sorted(list)[0])}')\n",
    "\n",
    "smallInList()\n",
    "        "
   ]
  },
  {
   "cell_type": "markdown",
   "metadata": {},
   "source": [
    "**4.\tWrite a Python program to find largest number in a list?**"
   ]
  },
  {
   "cell_type": "code",
   "execution_count": 15,
   "metadata": {},
   "outputs": [
    {
     "name": "stdout",
     "output_type": "stream",
     "text": [
      "Enter no of entries 6\n",
      "Enter a element 34\n",
      "Enter a element 93\n",
      "Enter a element 67\n",
      "Enter a element 81\n",
      "Enter a element 17\n",
      "Enter a element 25\n",
      "Largest number in [34, 93, 67, 81, 17, 25] is 93\n"
     ]
    }
   ],
   "source": [
    "def LargeInList():\n",
    "    ele=int(input(\"Enter no of entries \"))\n",
    "    list=[]\n",
    "    \n",
    "    \n",
    "    for i in range(ele):\n",
    "        list.append(int(input(\"Enter a element \")))\n",
    "        \n",
    "    print(f'Largest number in {list} is {(sorted(list,reverse=True)[0])}')\n",
    "\n",
    "LargeInList()\n",
    "        "
   ]
  },
  {
   "cell_type": "markdown",
   "metadata": {},
   "source": [
    "**5.\tWrite a Python program to find second largest number in a list?**"
   ]
  },
  {
   "cell_type": "code",
   "execution_count": 2,
   "metadata": {},
   "outputs": [
    {
     "name": "stdout",
     "output_type": "stream",
     "text": [
      "Enter no of entries 7\n",
      "Enter a element 51\n",
      "Enter a element 67\n",
      "Enter a element 35\n",
      "Enter a element 12\n",
      "Enter a element 18\n",
      "Enter a element 92\n",
      "Enter a element 57\n",
      "Second Largest number in [51, 67, 35, 12, 18, 92, 57] is 67\n"
     ]
    }
   ],
   "source": [
    "def SecondLargeInList():\n",
    "    ele=int(input(\"Enter no of entries \"))\n",
    "    list=[]\n",
    "    \n",
    "    \n",
    "    for i in range(ele):\n",
    "        list.append(int(input(\"Enter a element \")))\n",
    "        \n",
    "    print(f'Second Largest number in {list} is {(sorted(list,reverse=True)[1])}')\n",
    "\n",
    "SecondLargeInList()\n",
    "        "
   ]
  },
  {
   "cell_type": "markdown",
   "metadata": {},
   "source": [
    "**6.\tWrite a Python program to find N largest elements from a list?**"
   ]
  },
  {
   "cell_type": "code",
   "execution_count": 4,
   "metadata": {},
   "outputs": [
    {
     "name": "stdout",
     "output_type": "stream",
     "text": [
      "Enter no of entries 10\n",
      "Enter a element 1\n",
      "Enter a element 2\n",
      "Enter a element 3\n",
      "Enter a element 4\n",
      "Enter a element 5\n",
      "Enter a element 6\n",
      "Enter a element 7\n",
      "Enter a element 8\n",
      "Enter a element 9\n",
      "Enter a element 10\n",
      "4 Largest number in [1, 2, 3, 4, 5, 6, 7, 8, 9, 10] is [10, 9, 8, 7]\n"
     ]
    }
   ],
   "source": [
    "def NLargeInList(N):\n",
    "    \n",
    "    ele=int(input(\"Enter no of entries \"))\n",
    "    list=[]\n",
    "    \n",
    "    \n",
    "    for i in range(ele):\n",
    "        list.append(int(input(\"Enter a element \")))\n",
    "        \n",
    "    print(f'{N} Largest number in {list} is {(sorted(list,reverse=True)[0:N])}')\n",
    "\n",
    "NLargeInList(4)"
   ]
  },
  {
   "cell_type": "markdown",
   "metadata": {},
   "source": [
    "**7.\tWrite a Python program to print even numbers in a list?**"
   ]
  },
  {
   "cell_type": "code",
   "execution_count": 7,
   "metadata": {},
   "outputs": [
    {
     "name": "stdout",
     "output_type": "stream",
     "text": [
      "Enter no of entries 7\n",
      "Enter a element 11\n",
      "Enter a element 12\n",
      "Enter a element 13\n",
      "Enter a element 14\n",
      "Enter a element 15\n",
      "Enter a element 16\n",
      "Enter a element 17\n",
      "Even numbers in [11, 12, 13, 14, 15, 16, 17] are [12, 14, 16]\n"
     ]
    }
   ],
   "source": [
    "def EvenInList():\n",
    "    \n",
    "    ele=int(input(\"Enter no of entries \"))\n",
    "    list=[]\n",
    "    even=[]\n",
    "    \n",
    "    for i in range(ele):\n",
    "        list.append(int(input(\"Enter a element \")))\n",
    "    \n",
    "    for j in list:\n",
    "        \n",
    "        if (j%2==0):\n",
    "            \n",
    "            even.append(j)\n",
    "    print(f'Even numbers in {list} are {even}')\n",
    "          \n",
    "EvenInList()"
   ]
  },
  {
   "cell_type": "markdown",
   "metadata": {},
   "source": [
    "**8.\tWrite a Python program to print odd numbers in a List?**"
   ]
  },
  {
   "cell_type": "code",
   "execution_count": 9,
   "metadata": {},
   "outputs": [
    {
     "name": "stdout",
     "output_type": "stream",
     "text": [
      "Enter no of entries 8\n",
      "Enter a element 9\n",
      "Enter a element 8\n",
      "Enter a element 7\n",
      "Enter a element 6\n",
      "Enter a element 5\n",
      "Enter a element 4\n",
      "Enter a element 3\n",
      "Enter a element 2\n",
      "Odd numbers in [9, 8, 7, 6, 5, 4, 3, 2] are [9, 7, 5, 3]\n"
     ]
    }
   ],
   "source": [
    "def OddInList():\n",
    "    \n",
    "    ele=int(input(\"Enter no of entries \"))\n",
    "    list=[]\n",
    "    odd=[]\n",
    "    \n",
    "    for i in range(ele):\n",
    "        list.append(int(input(\"Enter a element \")))\n",
    "    \n",
    "    for j in list:\n",
    "        \n",
    "        if (j%2!=0):\n",
    "            \n",
    "            odd.append(j)\n",
    "    print(f'Odd numbers in {list} are {odd}')\n",
    "          \n",
    "OddInList()"
   ]
  },
  {
   "cell_type": "markdown",
   "metadata": {},
   "source": [
    "**9.\tWrite a Python program to Remove empty List from List?**"
   ]
  },
  {
   "cell_type": "code",
   "execution_count": 15,
   "metadata": {},
   "outputs": [
    {
     "name": "stdout",
     "output_type": "stream",
     "text": [
      "Enter a list [[5,6], [], 3, [], [9,8,7], [],[2,4]]\n",
      "List after removing empty list is [[5, 6], 3, [9, 8, 7], [2, 4]]\n"
     ]
    }
   ],
   "source": [
    "def RemoveEmptyList():\n",
    "    list=eval(input(\"Enter a list \"))\n",
    "    \n",
    "    new_list=[ele for ele in list if ele!=[]]\n",
    "    \n",
    "    print(f'List after removing empty list is {new_list}')\n",
    "    \n",
    "RemoveEmptyList()\n",
    "    "
   ]
  },
  {
   "cell_type": "markdown",
   "metadata": {},
   "source": [
    "**10.\tWrite a Python program to Cloning or Copying a list?**"
   ]
  },
  {
   "cell_type": "code",
   "execution_count": 17,
   "metadata": {},
   "outputs": [
    {
     "name": "stdout",
     "output_type": "stream",
     "text": [
      "Enter a list [4, 8, 2, 10, 15, 18]\n",
      "Cloned list is [4, 8, 2, 10, 15, 18]\n"
     ]
    }
   ],
   "source": [
    "def CopyList():\n",
    "    list=eval(input(\"Enter a list \"))\n",
    "    cloned_list=[]\n",
    "    \n",
    "    cloned_list=list.copy()\n",
    "    \n",
    "    print(f'Cloned list is {cloned_list}')\n",
    "    \n",
    "CopyList()"
   ]
  },
  {
   "cell_type": "markdown",
   "metadata": {},
   "source": [
    "**11.\tWrite a Python program to Count occurrences of an element in a list?**"
   ]
  },
  {
   "cell_type": "code",
   "execution_count": 22,
   "metadata": {},
   "outputs": [
    {
     "name": "stdout",
     "output_type": "stream",
     "text": [
      "Enter a list ['a', 'd', 'd', 'c', 'a', 'b', 'b', 'a', 'c', 'd', 'e']\n"
     ]
    },
    {
     "data": {
      "text/plain": [
       "{'a': 3, 'd': 3, 'c': 2, 'b': 2}"
      ]
     },
     "execution_count": 22,
     "metadata": {},
     "output_type": "execute_result"
    }
   ],
   "source": [
    "def OccurenceOfElement():\n",
    "    list=eval(input(\"Enter a list \"))\n",
    "    \n",
    "    d={}\n",
    "    \n",
    "    for i in range(len(list)-1):\n",
    "        a=list[i]\n",
    "        c=0\n",
    "        \n",
    "        for j in range(i,len(list)):\n",
    "            if list[i]==list[j]:\n",
    "                c=c+1\n",
    "                \n",
    "        count=dict({a:c})\n",
    "        \n",
    "        if a not in d.keys():\n",
    "            d.update(count)\n",
    "            \n",
    "    return d\n",
    "                \n",
    "OccurenceOfElement()    "
   ]
  }
 ],
 "metadata": {
  "kernelspec": {
   "display_name": "Python 3",
   "language": "python",
   "name": "python3"
  },
  "language_info": {
   "codemirror_mode": {
    "name": "ipython",
    "version": 3
   },
   "file_extension": ".py",
   "mimetype": "text/x-python",
   "name": "python",
   "nbconvert_exporter": "python",
   "pygments_lexer": "ipython3",
   "version": "3.6.5"
  }
 },
 "nbformat": 4,
 "nbformat_minor": 2
}
